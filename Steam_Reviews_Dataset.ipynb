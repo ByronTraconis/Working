{
  "cells": [
    {
      "cell_type": "markdown",
      "metadata": {
        "id": "view-in-github",
        "colab_type": "text"
      },
      "source": [
        "<a href=\"https://colab.research.google.com/github/ByronTraconis/Working/blob/main/Steam_Reviews_Dataset.ipynb\" target=\"_parent\"><img src=\"https://colab.research.google.com/assets/colab-badge.svg\" alt=\"Open In Colab\"/></a>"
      ]
    },
    {
      "cell_type": "markdown",
      "id": "f44eb87d",
      "metadata": {
        "id": "f44eb87d"
      },
      "source": [
        "# Steam Reviews Dataset"
      ]
    },
    {
      "cell_type": "markdown",
      "id": "599b445a",
      "metadata": {
        "id": "599b445a"
      },
      "source": [
        "### Descricpión del proyecto"
      ]
    },
    {
      "cell_type": "markdown",
      "id": "9963db7e",
      "metadata": {
        "id": "9963db7e"
      },
      "source": [
        "Para este proyecto tenemos un dataset, el cual se describirá acontinuación:\n",
        "\n",
        "\n",
        "<ul>\n",
        "    <li><code>steam_reviews.csv</code>: Estos datos contienen reseñas de los juegos más vendidos de Steam a fecha de febrero de 2019.</li>\n",
        "\n",
        "</ul>"
      ]
    },
    {
      "cell_type": "markdown",
      "id": "e7f95c0c",
      "metadata": {
        "id": "e7f95c0c"
      },
      "source": [
        "## Cargar liberías\n",
        "\n",
        "En primera instancia instalamos las librerías necesarias para la correcta ejecución del programa. Posteriormente, las cargamos en el ambiente."
      ]
    },
    {
      "cell_type": "code",
      "execution_count": null,
      "id": "3d30fc4a",
      "metadata": {
        "id": "3d30fc4a"
      },
      "outputs": [],
      "source": [
        "#Librerias\n",
        "import pandas as pd\n",
        "import numpy as np\n",
        "import matplotlib.pyplot as plt\n",
        "import seaborn as sns\n",
        "from sklearn.manifold import TSNE\n",
        "from sklearn.model_selection import train_test_split\n",
        "from matplotlib import cm\n",
        "from sklearn.svm import SVC\n",
        "from sklearn.metrics import accuracy_score\n",
        "from sklearn.feature_selection import VarianceThreshold\n",
        "from sklearn.linear_model import LogisticRegression\n",
        "from sklearn.metrics import accuracy_score\n",
        "from sklearn.ensemble import RandomForestClassifier\n",
        "from sklearn.linear_model import Lasso\n",
        "from sklearn.linear_model import LinearRegression"
      ]
    },
    {
      "cell_type": "markdown",
      "id": "084d1864",
      "metadata": {
        "id": "084d1864"
      },
      "source": [
        "## Limpieza y exploración de los datos\n",
        "\n",
        "- Lo primero que vamos a hacer es cargar nuestros datos en la variable **steam_data**. \n"
      ]
    },
    {
      "cell_type": "code",
      "execution_count": null,
      "id": "f93a5f00",
      "metadata": {
        "id": "f93a5f00"
      },
      "outputs": [],
      "source": [
        "#Asignación de los datos a la variable.\n",
        "steam_data = pd.read_csv(\"https://www.dl.dropboxusercontent.com/s/lp7f9h74ebwnf97/steam_reviews.csv?dl=0\")"
      ]
    },
    {
      "cell_type": "code",
      "execution_count": null,
      "id": "af9a1570",
      "metadata": {
        "colab": {
          "base_uri": "https://localhost:8080/",
          "height": 1000
        },
        "id": "af9a1570",
        "outputId": "299e0f11-64fd-4ab6-a39e-66f06076eba2"
      },
      "outputs": [
        {
          "output_type": "stream",
          "name": "stdout",
          "text": [
            "El número total de juegos reseñados en el dataset es de: 48\n"
          ]
        },
        {
          "output_type": "execute_result",
          "data": {
            "text/plain": [
              "                                          Titulos\n",
              "0     Expansion - Hearts of Iron IV: Man the Guns\n",
              "1                                Dead by Daylight\n",
              "2                                       Wargroove\n",
              "3                                Wallpaper Engine\n",
              "4                                        Factorio\n",
              "5                           Insurgency: Sandstorm\n",
              "6                                     Cold Waters\n",
              "7                                      Tannenberg\n",
              "8                           Pathfinder: Kingmaker\n",
              "9                           MONSTER HUNTER: WORLD\n",
              "10  Divinity: Original Sin 2 - Definitive Edition\n",
              "11                          Football Manager 2019\n",
              "12                                    Garry's Mod\n",
              "13                         Survivor Pass: Vikendi\n",
              "14                                    Moonlighter\n",
              "15                                       Terraria\n",
              "16                                    GOD EATER 3\n",
              "17                   Sid Meier’s Civilization® VI\n",
              "18                                 Rocket League®\n",
              "19                         Subnautica: Below Zero\n",
              "20                Tom Clancy's Rainbow Six® Siege\n",
              "21                                      ASTRONEER\n",
              "22    Sid Meier’s Civilization® VI: Rise and Fall\n",
              "23                                         Kenshi\n",
              "24                         Euro Truck Simulator 2\n",
              "25                             Grand Theft Auto V\n",
              "26                                       RimWorld\n",
              "27                                       NBA 2K19\n",
              "28               RESIDENT EVIL 2 / BIOHAZARD RE:2\n",
              "29                                 Slay the Spire\n",
              "30                              My Time At Portia\n",
              "31                                     Foundation\n",
              "32                                     Beat Saber\n",
              "33  Sid Meier's Civilization® VI: Gathering Storm\n",
              "34                                 Stardew Valley\n",
              "35                           Farming Simulator 19\n",
              "36                  PLAYERUNKNOWN'S BATTLEGROUNDS\n",
              "37                                  Overcooked! 2\n",
              "38                          Don't Starve Together\n",
              "39                                           Rust\n",
              "40                                     Subnautica\n",
              "41                   ACE COMBAT™ 7: SKIES UNKNOWN\n",
              "42                                  Left 4 Dead 2\n",
              "43                          ARK: Survival Evolved\n",
              "44                   Battlefleet Gothic: Armada 2\n",
              "45    The Elder Scrolls V: Skyrim Special Edition\n",
              "46                               Human: Fall Flat\n",
              "47                   Warhammer 40,000: Mechanicus"
            ],
            "text/html": [
              "\n",
              "  <div id=\"df-23939bc2-3a08-49bb-9565-b3a8d9481149\">\n",
              "    <div class=\"colab-df-container\">\n",
              "      <div>\n",
              "<style scoped>\n",
              "    .dataframe tbody tr th:only-of-type {\n",
              "        vertical-align: middle;\n",
              "    }\n",
              "\n",
              "    .dataframe tbody tr th {\n",
              "        vertical-align: top;\n",
              "    }\n",
              "\n",
              "    .dataframe thead th {\n",
              "        text-align: right;\n",
              "    }\n",
              "</style>\n",
              "<table border=\"1\" class=\"dataframe\">\n",
              "  <thead>\n",
              "    <tr style=\"text-align: right;\">\n",
              "      <th></th>\n",
              "      <th>Titulos</th>\n",
              "    </tr>\n",
              "  </thead>\n",
              "  <tbody>\n",
              "    <tr>\n",
              "      <th>0</th>\n",
              "      <td>Expansion - Hearts of Iron IV: Man the Guns</td>\n",
              "    </tr>\n",
              "    <tr>\n",
              "      <th>1</th>\n",
              "      <td>Dead by Daylight</td>\n",
              "    </tr>\n",
              "    <tr>\n",
              "      <th>2</th>\n",
              "      <td>Wargroove</td>\n",
              "    </tr>\n",
              "    <tr>\n",
              "      <th>3</th>\n",
              "      <td>Wallpaper Engine</td>\n",
              "    </tr>\n",
              "    <tr>\n",
              "      <th>4</th>\n",
              "      <td>Factorio</td>\n",
              "    </tr>\n",
              "    <tr>\n",
              "      <th>5</th>\n",
              "      <td>Insurgency: Sandstorm</td>\n",
              "    </tr>\n",
              "    <tr>\n",
              "      <th>6</th>\n",
              "      <td>Cold Waters</td>\n",
              "    </tr>\n",
              "    <tr>\n",
              "      <th>7</th>\n",
              "      <td>Tannenberg</td>\n",
              "    </tr>\n",
              "    <tr>\n",
              "      <th>8</th>\n",
              "      <td>Pathfinder: Kingmaker</td>\n",
              "    </tr>\n",
              "    <tr>\n",
              "      <th>9</th>\n",
              "      <td>MONSTER HUNTER: WORLD</td>\n",
              "    </tr>\n",
              "    <tr>\n",
              "      <th>10</th>\n",
              "      <td>Divinity: Original Sin 2 - Definitive Edition</td>\n",
              "    </tr>\n",
              "    <tr>\n",
              "      <th>11</th>\n",
              "      <td>Football Manager 2019</td>\n",
              "    </tr>\n",
              "    <tr>\n",
              "      <th>12</th>\n",
              "      <td>Garry's Mod</td>\n",
              "    </tr>\n",
              "    <tr>\n",
              "      <th>13</th>\n",
              "      <td>Survivor Pass: Vikendi</td>\n",
              "    </tr>\n",
              "    <tr>\n",
              "      <th>14</th>\n",
              "      <td>Moonlighter</td>\n",
              "    </tr>\n",
              "    <tr>\n",
              "      <th>15</th>\n",
              "      <td>Terraria</td>\n",
              "    </tr>\n",
              "    <tr>\n",
              "      <th>16</th>\n",
              "      <td>GOD EATER 3</td>\n",
              "    </tr>\n",
              "    <tr>\n",
              "      <th>17</th>\n",
              "      <td>Sid Meier’s Civilization® VI</td>\n",
              "    </tr>\n",
              "    <tr>\n",
              "      <th>18</th>\n",
              "      <td>Rocket League®</td>\n",
              "    </tr>\n",
              "    <tr>\n",
              "      <th>19</th>\n",
              "      <td>Subnautica: Below Zero</td>\n",
              "    </tr>\n",
              "    <tr>\n",
              "      <th>20</th>\n",
              "      <td>Tom Clancy's Rainbow Six® Siege</td>\n",
              "    </tr>\n",
              "    <tr>\n",
              "      <th>21</th>\n",
              "      <td>ASTRONEER</td>\n",
              "    </tr>\n",
              "    <tr>\n",
              "      <th>22</th>\n",
              "      <td>Sid Meier’s Civilization® VI: Rise and Fall</td>\n",
              "    </tr>\n",
              "    <tr>\n",
              "      <th>23</th>\n",
              "      <td>Kenshi</td>\n",
              "    </tr>\n",
              "    <tr>\n",
              "      <th>24</th>\n",
              "      <td>Euro Truck Simulator 2</td>\n",
              "    </tr>\n",
              "    <tr>\n",
              "      <th>25</th>\n",
              "      <td>Grand Theft Auto V</td>\n",
              "    </tr>\n",
              "    <tr>\n",
              "      <th>26</th>\n",
              "      <td>RimWorld</td>\n",
              "    </tr>\n",
              "    <tr>\n",
              "      <th>27</th>\n",
              "      <td>NBA 2K19</td>\n",
              "    </tr>\n",
              "    <tr>\n",
              "      <th>28</th>\n",
              "      <td>RESIDENT EVIL 2 / BIOHAZARD RE:2</td>\n",
              "    </tr>\n",
              "    <tr>\n",
              "      <th>29</th>\n",
              "      <td>Slay the Spire</td>\n",
              "    </tr>\n",
              "    <tr>\n",
              "      <th>30</th>\n",
              "      <td>My Time At Portia</td>\n",
              "    </tr>\n",
              "    <tr>\n",
              "      <th>31</th>\n",
              "      <td>Foundation</td>\n",
              "    </tr>\n",
              "    <tr>\n",
              "      <th>32</th>\n",
              "      <td>Beat Saber</td>\n",
              "    </tr>\n",
              "    <tr>\n",
              "      <th>33</th>\n",
              "      <td>Sid Meier's Civilization® VI: Gathering Storm</td>\n",
              "    </tr>\n",
              "    <tr>\n",
              "      <th>34</th>\n",
              "      <td>Stardew Valley</td>\n",
              "    </tr>\n",
              "    <tr>\n",
              "      <th>35</th>\n",
              "      <td>Farming Simulator 19</td>\n",
              "    </tr>\n",
              "    <tr>\n",
              "      <th>36</th>\n",
              "      <td>PLAYERUNKNOWN'S BATTLEGROUNDS</td>\n",
              "    </tr>\n",
              "    <tr>\n",
              "      <th>37</th>\n",
              "      <td>Overcooked! 2</td>\n",
              "    </tr>\n",
              "    <tr>\n",
              "      <th>38</th>\n",
              "      <td>Don't Starve Together</td>\n",
              "    </tr>\n",
              "    <tr>\n",
              "      <th>39</th>\n",
              "      <td>Rust</td>\n",
              "    </tr>\n",
              "    <tr>\n",
              "      <th>40</th>\n",
              "      <td>Subnautica</td>\n",
              "    </tr>\n",
              "    <tr>\n",
              "      <th>41</th>\n",
              "      <td>ACE COMBAT™ 7: SKIES UNKNOWN</td>\n",
              "    </tr>\n",
              "    <tr>\n",
              "      <th>42</th>\n",
              "      <td>Left 4 Dead 2</td>\n",
              "    </tr>\n",
              "    <tr>\n",
              "      <th>43</th>\n",
              "      <td>ARK: Survival Evolved</td>\n",
              "    </tr>\n",
              "    <tr>\n",
              "      <th>44</th>\n",
              "      <td>Battlefleet Gothic: Armada 2</td>\n",
              "    </tr>\n",
              "    <tr>\n",
              "      <th>45</th>\n",
              "      <td>The Elder Scrolls V: Skyrim Special Edition</td>\n",
              "    </tr>\n",
              "    <tr>\n",
              "      <th>46</th>\n",
              "      <td>Human: Fall Flat</td>\n",
              "    </tr>\n",
              "    <tr>\n",
              "      <th>47</th>\n",
              "      <td>Warhammer 40,000: Mechanicus</td>\n",
              "    </tr>\n",
              "  </tbody>\n",
              "</table>\n",
              "</div>\n",
              "      <button class=\"colab-df-convert\" onclick=\"convertToInteractive('df-23939bc2-3a08-49bb-9565-b3a8d9481149')\"\n",
              "              title=\"Convert this dataframe to an interactive table.\"\n",
              "              style=\"display:none;\">\n",
              "        \n",
              "  <svg xmlns=\"http://www.w3.org/2000/svg\" height=\"24px\"viewBox=\"0 0 24 24\"\n",
              "       width=\"24px\">\n",
              "    <path d=\"M0 0h24v24H0V0z\" fill=\"none\"/>\n",
              "    <path d=\"M18.56 5.44l.94 2.06.94-2.06 2.06-.94-2.06-.94-.94-2.06-.94 2.06-2.06.94zm-11 1L8.5 8.5l.94-2.06 2.06-.94-2.06-.94L8.5 2.5l-.94 2.06-2.06.94zm10 10l.94 2.06.94-2.06 2.06-.94-2.06-.94-.94-2.06-.94 2.06-2.06.94z\"/><path d=\"M17.41 7.96l-1.37-1.37c-.4-.4-.92-.59-1.43-.59-.52 0-1.04.2-1.43.59L10.3 9.45l-7.72 7.72c-.78.78-.78 2.05 0 2.83L4 21.41c.39.39.9.59 1.41.59.51 0 1.02-.2 1.41-.59l7.78-7.78 2.81-2.81c.8-.78.8-2.07 0-2.86zM5.41 20L4 18.59l7.72-7.72 1.47 1.35L5.41 20z\"/>\n",
              "  </svg>\n",
              "      </button>\n",
              "      \n",
              "  <style>\n",
              "    .colab-df-container {\n",
              "      display:flex;\n",
              "      flex-wrap:wrap;\n",
              "      gap: 12px;\n",
              "    }\n",
              "\n",
              "    .colab-df-convert {\n",
              "      background-color: #E8F0FE;\n",
              "      border: none;\n",
              "      border-radius: 50%;\n",
              "      cursor: pointer;\n",
              "      display: none;\n",
              "      fill: #1967D2;\n",
              "      height: 32px;\n",
              "      padding: 0 0 0 0;\n",
              "      width: 32px;\n",
              "    }\n",
              "\n",
              "    .colab-df-convert:hover {\n",
              "      background-color: #E2EBFA;\n",
              "      box-shadow: 0px 1px 2px rgba(60, 64, 67, 0.3), 0px 1px 3px 1px rgba(60, 64, 67, 0.15);\n",
              "      fill: #174EA6;\n",
              "    }\n",
              "\n",
              "    [theme=dark] .colab-df-convert {\n",
              "      background-color: #3B4455;\n",
              "      fill: #D2E3FC;\n",
              "    }\n",
              "\n",
              "    [theme=dark] .colab-df-convert:hover {\n",
              "      background-color: #434B5C;\n",
              "      box-shadow: 0px 1px 3px 1px rgba(0, 0, 0, 0.15);\n",
              "      filter: drop-shadow(0px 1px 2px rgba(0, 0, 0, 0.3));\n",
              "      fill: #FFFFFF;\n",
              "    }\n",
              "  </style>\n",
              "\n",
              "      <script>\n",
              "        const buttonEl =\n",
              "          document.querySelector('#df-23939bc2-3a08-49bb-9565-b3a8d9481149 button.colab-df-convert');\n",
              "        buttonEl.style.display =\n",
              "          google.colab.kernel.accessAllowed ? 'block' : 'none';\n",
              "\n",
              "        async function convertToInteractive(key) {\n",
              "          const element = document.querySelector('#df-23939bc2-3a08-49bb-9565-b3a8d9481149');\n",
              "          const dataTable =\n",
              "            await google.colab.kernel.invokeFunction('convertToInteractive',\n",
              "                                                     [key], {});\n",
              "          if (!dataTable) return;\n",
              "\n",
              "          const docLinkHtml = 'Like what you see? Visit the ' +\n",
              "            '<a target=\"_blank\" href=https://colab.research.google.com/notebooks/data_table.ipynb>data table notebook</a>'\n",
              "            + ' to learn more about interactive tables.';\n",
              "          element.innerHTML = '';\n",
              "          dataTable['output_type'] = 'display_data';\n",
              "          await google.colab.output.renderOutput(dataTable, element);\n",
              "          const docLink = document.createElement('div');\n",
              "          docLink.innerHTML = docLinkHtml;\n",
              "          element.appendChild(docLink);\n",
              "        }\n",
              "      </script>\n",
              "    </div>\n",
              "  </div>\n",
              "  "
            ]
          },
          "metadata": {},
          "execution_count": 3
        }
      ],
      "source": [
        "#Imprimir el número total de juegos\n",
        "print(\"El número total de juegos reseñados en el dataset es de:\", len(steam_data[\"title\"].unique()))\n",
        "\n",
        "#Imprimir cuales son esos juegos\n",
        "juegos = steam_data[\"title\"].unique()\n",
        "dic_juegos = {\"Titulos\": juegos}\n",
        "data_set= pd.DataFrame(dic_juegos)\n",
        "data_set.head(len(steam_data[\"title\"].unique()))"
      ]
    },
    {
      "cell_type": "code",
      "execution_count": null,
      "id": "a46ebed9",
      "metadata": {
        "colab": {
          "base_uri": "https://localhost:8080/",
          "height": 206
        },
        "id": "a46ebed9",
        "outputId": "bb68fd03-36d6-45b2-a9f9-1bbd60131c76"
      },
      "outputs": [
        {
          "output_type": "execute_result",
          "data": {
            "text/plain": [
              "  date_posted  funny  helpful  hour_played  is_early_access_review  \\\n",
              "0  2019-02-10      2        4          578                   False   \n",
              "1  2019-02-10      0        0          184                   False   \n",
              "2  2019-02-07      0        0          892                   False   \n",
              "3  2018-06-14    126     1086          676                   False   \n",
              "4  2017-06-20     85     2139          612                   False   \n",
              "\n",
              "  recommendation                                             review  \\\n",
              "0    Recommended  &gt Played as German Reich&gt Declare war on B...   \n",
              "1    Recommended                                               yes.   \n",
              "2    Recommended  Very good game although a bit overpriced in my...   \n",
              "3    Recommended  Out of all the reviews I wrote This one is pro...   \n",
              "4    Recommended  Disclaimer I survivor main. I play games for f...   \n",
              "\n",
              "                                         title  \n",
              "0  Expansion - Hearts of Iron IV: Man the Guns  \n",
              "1  Expansion - Hearts of Iron IV: Man the Guns  \n",
              "2  Expansion - Hearts of Iron IV: Man the Guns  \n",
              "3                             Dead by Daylight  \n",
              "4                             Dead by Daylight  "
            ],
            "text/html": [
              "\n",
              "  <div id=\"df-4e0dc3fc-7abc-4bfe-abdc-d0c52b72e708\">\n",
              "    <div class=\"colab-df-container\">\n",
              "      <div>\n",
              "<style scoped>\n",
              "    .dataframe tbody tr th:only-of-type {\n",
              "        vertical-align: middle;\n",
              "    }\n",
              "\n",
              "    .dataframe tbody tr th {\n",
              "        vertical-align: top;\n",
              "    }\n",
              "\n",
              "    .dataframe thead th {\n",
              "        text-align: right;\n",
              "    }\n",
              "</style>\n",
              "<table border=\"1\" class=\"dataframe\">\n",
              "  <thead>\n",
              "    <tr style=\"text-align: right;\">\n",
              "      <th></th>\n",
              "      <th>date_posted</th>\n",
              "      <th>funny</th>\n",
              "      <th>helpful</th>\n",
              "      <th>hour_played</th>\n",
              "      <th>is_early_access_review</th>\n",
              "      <th>recommendation</th>\n",
              "      <th>review</th>\n",
              "      <th>title</th>\n",
              "    </tr>\n",
              "  </thead>\n",
              "  <tbody>\n",
              "    <tr>\n",
              "      <th>0</th>\n",
              "      <td>2019-02-10</td>\n",
              "      <td>2</td>\n",
              "      <td>4</td>\n",
              "      <td>578</td>\n",
              "      <td>False</td>\n",
              "      <td>Recommended</td>\n",
              "      <td>&amp;gt Played as German Reich&amp;gt Declare war on B...</td>\n",
              "      <td>Expansion - Hearts of Iron IV: Man the Guns</td>\n",
              "    </tr>\n",
              "    <tr>\n",
              "      <th>1</th>\n",
              "      <td>2019-02-10</td>\n",
              "      <td>0</td>\n",
              "      <td>0</td>\n",
              "      <td>184</td>\n",
              "      <td>False</td>\n",
              "      <td>Recommended</td>\n",
              "      <td>yes.</td>\n",
              "      <td>Expansion - Hearts of Iron IV: Man the Guns</td>\n",
              "    </tr>\n",
              "    <tr>\n",
              "      <th>2</th>\n",
              "      <td>2019-02-07</td>\n",
              "      <td>0</td>\n",
              "      <td>0</td>\n",
              "      <td>892</td>\n",
              "      <td>False</td>\n",
              "      <td>Recommended</td>\n",
              "      <td>Very good game although a bit overpriced in my...</td>\n",
              "      <td>Expansion - Hearts of Iron IV: Man the Guns</td>\n",
              "    </tr>\n",
              "    <tr>\n",
              "      <th>3</th>\n",
              "      <td>2018-06-14</td>\n",
              "      <td>126</td>\n",
              "      <td>1086</td>\n",
              "      <td>676</td>\n",
              "      <td>False</td>\n",
              "      <td>Recommended</td>\n",
              "      <td>Out of all the reviews I wrote This one is pro...</td>\n",
              "      <td>Dead by Daylight</td>\n",
              "    </tr>\n",
              "    <tr>\n",
              "      <th>4</th>\n",
              "      <td>2017-06-20</td>\n",
              "      <td>85</td>\n",
              "      <td>2139</td>\n",
              "      <td>612</td>\n",
              "      <td>False</td>\n",
              "      <td>Recommended</td>\n",
              "      <td>Disclaimer I survivor main. I play games for f...</td>\n",
              "      <td>Dead by Daylight</td>\n",
              "    </tr>\n",
              "  </tbody>\n",
              "</table>\n",
              "</div>\n",
              "      <button class=\"colab-df-convert\" onclick=\"convertToInteractive('df-4e0dc3fc-7abc-4bfe-abdc-d0c52b72e708')\"\n",
              "              title=\"Convert this dataframe to an interactive table.\"\n",
              "              style=\"display:none;\">\n",
              "        \n",
              "  <svg xmlns=\"http://www.w3.org/2000/svg\" height=\"24px\"viewBox=\"0 0 24 24\"\n",
              "       width=\"24px\">\n",
              "    <path d=\"M0 0h24v24H0V0z\" fill=\"none\"/>\n",
              "    <path d=\"M18.56 5.44l.94 2.06.94-2.06 2.06-.94-2.06-.94-.94-2.06-.94 2.06-2.06.94zm-11 1L8.5 8.5l.94-2.06 2.06-.94-2.06-.94L8.5 2.5l-.94 2.06-2.06.94zm10 10l.94 2.06.94-2.06 2.06-.94-2.06-.94-.94-2.06-.94 2.06-2.06.94z\"/><path d=\"M17.41 7.96l-1.37-1.37c-.4-.4-.92-.59-1.43-.59-.52 0-1.04.2-1.43.59L10.3 9.45l-7.72 7.72c-.78.78-.78 2.05 0 2.83L4 21.41c.39.39.9.59 1.41.59.51 0 1.02-.2 1.41-.59l7.78-7.78 2.81-2.81c.8-.78.8-2.07 0-2.86zM5.41 20L4 18.59l7.72-7.72 1.47 1.35L5.41 20z\"/>\n",
              "  </svg>\n",
              "      </button>\n",
              "      \n",
              "  <style>\n",
              "    .colab-df-container {\n",
              "      display:flex;\n",
              "      flex-wrap:wrap;\n",
              "      gap: 12px;\n",
              "    }\n",
              "\n",
              "    .colab-df-convert {\n",
              "      background-color: #E8F0FE;\n",
              "      border: none;\n",
              "      border-radius: 50%;\n",
              "      cursor: pointer;\n",
              "      display: none;\n",
              "      fill: #1967D2;\n",
              "      height: 32px;\n",
              "      padding: 0 0 0 0;\n",
              "      width: 32px;\n",
              "    }\n",
              "\n",
              "    .colab-df-convert:hover {\n",
              "      background-color: #E2EBFA;\n",
              "      box-shadow: 0px 1px 2px rgba(60, 64, 67, 0.3), 0px 1px 3px 1px rgba(60, 64, 67, 0.15);\n",
              "      fill: #174EA6;\n",
              "    }\n",
              "\n",
              "    [theme=dark] .colab-df-convert {\n",
              "      background-color: #3B4455;\n",
              "      fill: #D2E3FC;\n",
              "    }\n",
              "\n",
              "    [theme=dark] .colab-df-convert:hover {\n",
              "      background-color: #434B5C;\n",
              "      box-shadow: 0px 1px 3px 1px rgba(0, 0, 0, 0.15);\n",
              "      filter: drop-shadow(0px 1px 2px rgba(0, 0, 0, 0.3));\n",
              "      fill: #FFFFFF;\n",
              "    }\n",
              "  </style>\n",
              "\n",
              "      <script>\n",
              "        const buttonEl =\n",
              "          document.querySelector('#df-4e0dc3fc-7abc-4bfe-abdc-d0c52b72e708 button.colab-df-convert');\n",
              "        buttonEl.style.display =\n",
              "          google.colab.kernel.accessAllowed ? 'block' : 'none';\n",
              "\n",
              "        async function convertToInteractive(key) {\n",
              "          const element = document.querySelector('#df-4e0dc3fc-7abc-4bfe-abdc-d0c52b72e708');\n",
              "          const dataTable =\n",
              "            await google.colab.kernel.invokeFunction('convertToInteractive',\n",
              "                                                     [key], {});\n",
              "          if (!dataTable) return;\n",
              "\n",
              "          const docLinkHtml = 'Like what you see? Visit the ' +\n",
              "            '<a target=\"_blank\" href=https://colab.research.google.com/notebooks/data_table.ipynb>data table notebook</a>'\n",
              "            + ' to learn more about interactive tables.';\n",
              "          element.innerHTML = '';\n",
              "          dataTable['output_type'] = 'display_data';\n",
              "          await google.colab.output.renderOutput(dataTable, element);\n",
              "          const docLink = document.createElement('div');\n",
              "          docLink.innerHTML = docLinkHtml;\n",
              "          element.appendChild(docLink);\n",
              "        }\n",
              "      </script>\n",
              "    </div>\n",
              "  </div>\n",
              "  "
            ]
          },
          "metadata": {},
          "execution_count": 4
        }
      ],
      "source": [
        "#Observamos nuestro conjunto de datos\n",
        "steam_data.head()"
      ]
    },
    {
      "cell_type": "markdown",
      "source": [
        "## Descipción de nuestros datos\n"
      ],
      "metadata": {
        "id": "BwDaqAc_dBMY"
      },
      "id": "BwDaqAc_dBMY"
    },
    {
      "cell_type": "markdown",
      "source": [
        "Realizamos un análisis de la estructura de la tabla, esto con el fin de observar que tipo de variables tenemos.\n",
        "\n",
        "- Realizamos una observación de las dimensiones de nuestro DataSet.\n",
        "- Observamos los datos  de nuestro DataSet."
      ],
      "metadata": {
        "id": "YPY7BFPvdGWF"
      },
      "id": "YPY7BFPvdGWF"
    },
    {
      "cell_type": "code",
      "execution_count": null,
      "id": "05287cc0",
      "metadata": {
        "colab": {
          "base_uri": "https://localhost:8080/"
        },
        "id": "05287cc0",
        "outputId": "a56a6d4d-b311-4cac-b977-eb81ab1b9ee9"
      },
      "outputs": [
        {
          "output_type": "stream",
          "name": "stdout",
          "text": [
            "Las dimensiones de nuestro DataSet tienen : 434891 filas y 8 columnas.\n"
          ]
        }
      ],
      "source": [
        "#Observamos las dimensiones de nuestro dataSet\n",
        "print(\"Las dimensiones de nuestro DataSet tienen : \" + str(steam_data.shape[0]) + \" filas y \" + str(steam_data.shape[1]) + \" columnas.\")"
      ]
    },
    {
      "cell_type": "code",
      "execution_count": null,
      "id": "e94470df",
      "metadata": {
        "colab": {
          "base_uri": "https://localhost:8080/"
        },
        "id": "e94470df",
        "outputId": "354367d0-f06f-4288-c416-0f336c98ad79"
      },
      "outputs": [
        {
          "output_type": "stream",
          "name": "stdout",
          "text": [
            "<class 'pandas.core.frame.DataFrame'>\n",
            "RangeIndex: 434891 entries, 0 to 434890\n",
            "Data columns (total 8 columns):\n",
            " #   Column                  Non-Null Count   Dtype \n",
            "---  ------                  --------------   ----- \n",
            " 0   date_posted             434891 non-null  object\n",
            " 1   funny                   434891 non-null  int64 \n",
            " 2   helpful                 434891 non-null  int64 \n",
            " 3   hour_played             434891 non-null  int64 \n",
            " 4   is_early_access_review  434891 non-null  bool  \n",
            " 5   recommendation          434891 non-null  object\n",
            " 6   review                  433375 non-null  object\n",
            " 7   title                   434891 non-null  object\n",
            "dtypes: bool(1), int64(3), object(4)\n",
            "memory usage: 23.6+ MB\n"
          ]
        }
      ],
      "source": [
        "#Observamos un poco más a detalle que datos posee nuestro DataSet\n",
        "steam_data.info()"
      ]
    },
    {
      "cell_type": "markdown",
      "source": [
        "Podemos observar que en nuestro conjunto de datos, **3** de estos son **Enteros**, **4** de los datos son de tipos **Cadena** y el dato restante es **Booleano**\n",
        "\n",
        "Con respecto a lo anterior, sabemos que cada uno de estos tipos de datos corresponde a:\n",
        "\n",
        "\n",
        "- **date_posted:** La fecha de publicación de una reseña.\n",
        "\n",
        "- **funny:** Cuántos otros jugadores piensan que la crítica es divertida.\n",
        "\n",
        "- **helpful:** Cuántos otros jugadores piensan que la revisión es útil.\n",
        "\n",
        "- **hour_played:** Cuántas horas juega un crítico al juego antes de hacer una crítica.\n",
        "\n",
        "- **is_early_access_review:** Indica si los jugaores tuvieron acceso anticipado al juego.\n",
        "\n",
        "- **recommendation:** Si el crítico recomienda el juego o no.\n",
        "\n",
        "- **review:** El texto de la revisión del usuario.\n",
        "\n",
        "- **title:** El título del juego que se está revisando.\n"
      ],
      "metadata": {
        "id": "O4qoQrJ3jUdD"
      },
      "id": "O4qoQrJ3jUdD"
    },
    {
      "cell_type": "markdown",
      "source": [
        "## Estadísticas del DataFrame\n"
      ],
      "metadata": {
        "id": "6iiGJJ3wmTjd"
      },
      "id": "6iiGJJ3wmTjd"
    },
    {
      "cell_type": "markdown",
      "source": [
        "d"
      ],
      "metadata": {
        "id": "8HXmfyOOmYLa"
      },
      "id": "8HXmfyOOmYLa"
    },
    {
      "cell_type": "code",
      "execution_count": null,
      "id": "e58a674e",
      "metadata": {
        "id": "e58a674e"
      },
      "outputs": [],
      "source": [
        "#Sacar las los juegos\n",
        "categorias = steam_data.groupby(\"title\")[\"title\"].unique()\n",
        "\n",
        "#Sacar el número de reseñas por juego\n",
        "reviews= steam_data.groupby(\"title\").agg({'review': 'count'})\n",
        "\n",
        "#Renombrar "
      ]
    },
    {
      "cell_type": "code",
      "source": [
        "reviews.head(len(steam_data[\"title\"].unique()))"
      ],
      "metadata": {
        "colab": {
          "base_uri": "https://localhost:8080/",
          "height": 1000
        },
        "id": "boGL796exQlg",
        "outputId": "20974a82-0d7d-46e2-c5a0-284f409784ab"
      },
      "id": "boGL796exQlg",
      "execution_count": null,
      "outputs": [
        {
          "output_type": "execute_result",
          "data": {
            "text/plain": [
              "                                               review\n",
              "title                                                \n",
              "ACE COMBAT™ 7: SKIES UNKNOWN                       10\n",
              "ARK: Survival Evolved                             194\n",
              "ASTRONEER                                        2658\n",
              "Battlefleet Gothic: Armada 2                       10\n",
              "Beat Saber                                         10\n",
              "Cold Waters                                        10\n",
              "Dead by Daylight                                22178\n",
              "Divinity: Original Sin 2 - Definitive Edition     190\n",
              "Don't Starve Together                             165\n",
              "Euro Truck Simulator 2                            499\n",
              "Expansion - Hearts of Iron IV: Man the Guns         3\n",
              "Factorio                                          170\n",
              "Farming Simulator 19                               10\n",
              "Football Manager 2019                              10\n",
              "Foundation                                         10\n",
              "GOD EATER 3                                        10\n",
              "Garry's Mod                                       202\n",
              "Grand Theft Auto V                              99677\n",
              "Human: Fall Flat                                  172\n",
              "Insurgency: Sandstorm                             220\n",
              "Kenshi                                             10\n",
              "Left 4 Dead 2                                     221\n",
              "MONSTER HUNTER: WORLD                           18390\n",
              "Moonlighter                                        10\n",
              "My Time At Portia                                  10\n",
              "NBA 2K19                                           10\n",
              "Overcooked! 2                                      10\n",
              "PLAYERUNKNOWN'S BATTLEGROUNDS                  144846\n",
              "Pathfinder: Kingmaker                              10\n",
              "RESIDENT EVIL 2 / BIOHAZARD RE:2                 1384\n",
              "RimWorld                                          204\n",
              "Rocket League®                                  67765\n",
              "Rust                                            70907\n",
              "Sid Meier's Civilization® VI: Gathering Storm       3\n",
              "Sid Meier’s Civilization® VI                      522\n",
              "Sid Meier’s Civilization® VI: Rise and Fall         3\n",
              "Slay the Spire                                    260\n",
              "Stardew Valley                                    202\n",
              "Subnautica                                        247\n",
              "Subnautica: Below Zero                             10\n",
              "Survivor Pass: Vikendi                              3\n",
              "Tannenberg                                         10\n",
              "Terraria                                          260\n",
              "The Elder Scrolls V: Skyrim Special Edition      1471\n",
              "Tom Clancy's Rainbow Six® Siege                    10\n",
              "Wallpaper Engine                                  169\n",
              "Wargroove                                          10\n",
              "Warhammer 40,000: Mechanicus                       10"
            ],
            "text/html": [
              "\n",
              "  <div id=\"df-91e56fb2-a3c5-4e15-a0d4-acb0fe091df1\">\n",
              "    <div class=\"colab-df-container\">\n",
              "      <div>\n",
              "<style scoped>\n",
              "    .dataframe tbody tr th:only-of-type {\n",
              "        vertical-align: middle;\n",
              "    }\n",
              "\n",
              "    .dataframe tbody tr th {\n",
              "        vertical-align: top;\n",
              "    }\n",
              "\n",
              "    .dataframe thead th {\n",
              "        text-align: right;\n",
              "    }\n",
              "</style>\n",
              "<table border=\"1\" class=\"dataframe\">\n",
              "  <thead>\n",
              "    <tr style=\"text-align: right;\">\n",
              "      <th></th>\n",
              "      <th>review</th>\n",
              "    </tr>\n",
              "    <tr>\n",
              "      <th>title</th>\n",
              "      <th></th>\n",
              "    </tr>\n",
              "  </thead>\n",
              "  <tbody>\n",
              "    <tr>\n",
              "      <th>ACE COMBAT™ 7: SKIES UNKNOWN</th>\n",
              "      <td>10</td>\n",
              "    </tr>\n",
              "    <tr>\n",
              "      <th>ARK: Survival Evolved</th>\n",
              "      <td>194</td>\n",
              "    </tr>\n",
              "    <tr>\n",
              "      <th>ASTRONEER</th>\n",
              "      <td>2658</td>\n",
              "    </tr>\n",
              "    <tr>\n",
              "      <th>Battlefleet Gothic: Armada 2</th>\n",
              "      <td>10</td>\n",
              "    </tr>\n",
              "    <tr>\n",
              "      <th>Beat Saber</th>\n",
              "      <td>10</td>\n",
              "    </tr>\n",
              "    <tr>\n",
              "      <th>Cold Waters</th>\n",
              "      <td>10</td>\n",
              "    </tr>\n",
              "    <tr>\n",
              "      <th>Dead by Daylight</th>\n",
              "      <td>22178</td>\n",
              "    </tr>\n",
              "    <tr>\n",
              "      <th>Divinity: Original Sin 2 - Definitive Edition</th>\n",
              "      <td>190</td>\n",
              "    </tr>\n",
              "    <tr>\n",
              "      <th>Don't Starve Together</th>\n",
              "      <td>165</td>\n",
              "    </tr>\n",
              "    <tr>\n",
              "      <th>Euro Truck Simulator 2</th>\n",
              "      <td>499</td>\n",
              "    </tr>\n",
              "    <tr>\n",
              "      <th>Expansion - Hearts of Iron IV: Man the Guns</th>\n",
              "      <td>3</td>\n",
              "    </tr>\n",
              "    <tr>\n",
              "      <th>Factorio</th>\n",
              "      <td>170</td>\n",
              "    </tr>\n",
              "    <tr>\n",
              "      <th>Farming Simulator 19</th>\n",
              "      <td>10</td>\n",
              "    </tr>\n",
              "    <tr>\n",
              "      <th>Football Manager 2019</th>\n",
              "      <td>10</td>\n",
              "    </tr>\n",
              "    <tr>\n",
              "      <th>Foundation</th>\n",
              "      <td>10</td>\n",
              "    </tr>\n",
              "    <tr>\n",
              "      <th>GOD EATER 3</th>\n",
              "      <td>10</td>\n",
              "    </tr>\n",
              "    <tr>\n",
              "      <th>Garry's Mod</th>\n",
              "      <td>202</td>\n",
              "    </tr>\n",
              "    <tr>\n",
              "      <th>Grand Theft Auto V</th>\n",
              "      <td>99677</td>\n",
              "    </tr>\n",
              "    <tr>\n",
              "      <th>Human: Fall Flat</th>\n",
              "      <td>172</td>\n",
              "    </tr>\n",
              "    <tr>\n",
              "      <th>Insurgency: Sandstorm</th>\n",
              "      <td>220</td>\n",
              "    </tr>\n",
              "    <tr>\n",
              "      <th>Kenshi</th>\n",
              "      <td>10</td>\n",
              "    </tr>\n",
              "    <tr>\n",
              "      <th>Left 4 Dead 2</th>\n",
              "      <td>221</td>\n",
              "    </tr>\n",
              "    <tr>\n",
              "      <th>MONSTER HUNTER: WORLD</th>\n",
              "      <td>18390</td>\n",
              "    </tr>\n",
              "    <tr>\n",
              "      <th>Moonlighter</th>\n",
              "      <td>10</td>\n",
              "    </tr>\n",
              "    <tr>\n",
              "      <th>My Time At Portia</th>\n",
              "      <td>10</td>\n",
              "    </tr>\n",
              "    <tr>\n",
              "      <th>NBA 2K19</th>\n",
              "      <td>10</td>\n",
              "    </tr>\n",
              "    <tr>\n",
              "      <th>Overcooked! 2</th>\n",
              "      <td>10</td>\n",
              "    </tr>\n",
              "    <tr>\n",
              "      <th>PLAYERUNKNOWN'S BATTLEGROUNDS</th>\n",
              "      <td>144846</td>\n",
              "    </tr>\n",
              "    <tr>\n",
              "      <th>Pathfinder: Kingmaker</th>\n",
              "      <td>10</td>\n",
              "    </tr>\n",
              "    <tr>\n",
              "      <th>RESIDENT EVIL 2 / BIOHAZARD RE:2</th>\n",
              "      <td>1384</td>\n",
              "    </tr>\n",
              "    <tr>\n",
              "      <th>RimWorld</th>\n",
              "      <td>204</td>\n",
              "    </tr>\n",
              "    <tr>\n",
              "      <th>Rocket League®</th>\n",
              "      <td>67765</td>\n",
              "    </tr>\n",
              "    <tr>\n",
              "      <th>Rust</th>\n",
              "      <td>70907</td>\n",
              "    </tr>\n",
              "    <tr>\n",
              "      <th>Sid Meier's Civilization® VI: Gathering Storm</th>\n",
              "      <td>3</td>\n",
              "    </tr>\n",
              "    <tr>\n",
              "      <th>Sid Meier’s Civilization® VI</th>\n",
              "      <td>522</td>\n",
              "    </tr>\n",
              "    <tr>\n",
              "      <th>Sid Meier’s Civilization® VI: Rise and Fall</th>\n",
              "      <td>3</td>\n",
              "    </tr>\n",
              "    <tr>\n",
              "      <th>Slay the Spire</th>\n",
              "      <td>260</td>\n",
              "    </tr>\n",
              "    <tr>\n",
              "      <th>Stardew Valley</th>\n",
              "      <td>202</td>\n",
              "    </tr>\n",
              "    <tr>\n",
              "      <th>Subnautica</th>\n",
              "      <td>247</td>\n",
              "    </tr>\n",
              "    <tr>\n",
              "      <th>Subnautica: Below Zero</th>\n",
              "      <td>10</td>\n",
              "    </tr>\n",
              "    <tr>\n",
              "      <th>Survivor Pass: Vikendi</th>\n",
              "      <td>3</td>\n",
              "    </tr>\n",
              "    <tr>\n",
              "      <th>Tannenberg</th>\n",
              "      <td>10</td>\n",
              "    </tr>\n",
              "    <tr>\n",
              "      <th>Terraria</th>\n",
              "      <td>260</td>\n",
              "    </tr>\n",
              "    <tr>\n",
              "      <th>The Elder Scrolls V: Skyrim Special Edition</th>\n",
              "      <td>1471</td>\n",
              "    </tr>\n",
              "    <tr>\n",
              "      <th>Tom Clancy's Rainbow Six® Siege</th>\n",
              "      <td>10</td>\n",
              "    </tr>\n",
              "    <tr>\n",
              "      <th>Wallpaper Engine</th>\n",
              "      <td>169</td>\n",
              "    </tr>\n",
              "    <tr>\n",
              "      <th>Wargroove</th>\n",
              "      <td>10</td>\n",
              "    </tr>\n",
              "    <tr>\n",
              "      <th>Warhammer 40,000: Mechanicus</th>\n",
              "      <td>10</td>\n",
              "    </tr>\n",
              "  </tbody>\n",
              "</table>\n",
              "</div>\n",
              "      <button class=\"colab-df-convert\" onclick=\"convertToInteractive('df-91e56fb2-a3c5-4e15-a0d4-acb0fe091df1')\"\n",
              "              title=\"Convert this dataframe to an interactive table.\"\n",
              "              style=\"display:none;\">\n",
              "        \n",
              "  <svg xmlns=\"http://www.w3.org/2000/svg\" height=\"24px\"viewBox=\"0 0 24 24\"\n",
              "       width=\"24px\">\n",
              "    <path d=\"M0 0h24v24H0V0z\" fill=\"none\"/>\n",
              "    <path d=\"M18.56 5.44l.94 2.06.94-2.06 2.06-.94-2.06-.94-.94-2.06-.94 2.06-2.06.94zm-11 1L8.5 8.5l.94-2.06 2.06-.94-2.06-.94L8.5 2.5l-.94 2.06-2.06.94zm10 10l.94 2.06.94-2.06 2.06-.94-2.06-.94-.94-2.06-.94 2.06-2.06.94z\"/><path d=\"M17.41 7.96l-1.37-1.37c-.4-.4-.92-.59-1.43-.59-.52 0-1.04.2-1.43.59L10.3 9.45l-7.72 7.72c-.78.78-.78 2.05 0 2.83L4 21.41c.39.39.9.59 1.41.59.51 0 1.02-.2 1.41-.59l7.78-7.78 2.81-2.81c.8-.78.8-2.07 0-2.86zM5.41 20L4 18.59l7.72-7.72 1.47 1.35L5.41 20z\"/>\n",
              "  </svg>\n",
              "      </button>\n",
              "      \n",
              "  <style>\n",
              "    .colab-df-container {\n",
              "      display:flex;\n",
              "      flex-wrap:wrap;\n",
              "      gap: 12px;\n",
              "    }\n",
              "\n",
              "    .colab-df-convert {\n",
              "      background-color: #E8F0FE;\n",
              "      border: none;\n",
              "      border-radius: 50%;\n",
              "      cursor: pointer;\n",
              "      display: none;\n",
              "      fill: #1967D2;\n",
              "      height: 32px;\n",
              "      padding: 0 0 0 0;\n",
              "      width: 32px;\n",
              "    }\n",
              "\n",
              "    .colab-df-convert:hover {\n",
              "      background-color: #E2EBFA;\n",
              "      box-shadow: 0px 1px 2px rgba(60, 64, 67, 0.3), 0px 1px 3px 1px rgba(60, 64, 67, 0.15);\n",
              "      fill: #174EA6;\n",
              "    }\n",
              "\n",
              "    [theme=dark] .colab-df-convert {\n",
              "      background-color: #3B4455;\n",
              "      fill: #D2E3FC;\n",
              "    }\n",
              "\n",
              "    [theme=dark] .colab-df-convert:hover {\n",
              "      background-color: #434B5C;\n",
              "      box-shadow: 0px 1px 3px 1px rgba(0, 0, 0, 0.15);\n",
              "      filter: drop-shadow(0px 1px 2px rgba(0, 0, 0, 0.3));\n",
              "      fill: #FFFFFF;\n",
              "    }\n",
              "  </style>\n",
              "\n",
              "      <script>\n",
              "        const buttonEl =\n",
              "          document.querySelector('#df-91e56fb2-a3c5-4e15-a0d4-acb0fe091df1 button.colab-df-convert');\n",
              "        buttonEl.style.display =\n",
              "          google.colab.kernel.accessAllowed ? 'block' : 'none';\n",
              "\n",
              "        async function convertToInteractive(key) {\n",
              "          const element = document.querySelector('#df-91e56fb2-a3c5-4e15-a0d4-acb0fe091df1');\n",
              "          const dataTable =\n",
              "            await google.colab.kernel.invokeFunction('convertToInteractive',\n",
              "                                                     [key], {});\n",
              "          if (!dataTable) return;\n",
              "\n",
              "          const docLinkHtml = 'Like what you see? Visit the ' +\n",
              "            '<a target=\"_blank\" href=https://colab.research.google.com/notebooks/data_table.ipynb>data table notebook</a>'\n",
              "            + ' to learn more about interactive tables.';\n",
              "          element.innerHTML = '';\n",
              "          dataTable['output_type'] = 'display_data';\n",
              "          await google.colab.output.renderOutput(dataTable, element);\n",
              "          const docLink = document.createElement('div');\n",
              "          docLink.innerHTML = docLinkHtml;\n",
              "          element.appendChild(docLink);\n",
              "        }\n",
              "      </script>\n",
              "    </div>\n",
              "  </div>\n",
              "  "
            ]
          },
          "metadata": {},
          "execution_count": 8
        }
      ]
    },
    {
      "cell_type": "markdown",
      "source": [
        "## Exploración por medio de gráficos.\n",
        "\n",
        "\n"
      ],
      "metadata": {
        "id": "Wg42M-mqOUtS"
      },
      "id": "Wg42M-mqOUtS"
    },
    {
      "cell_type": "markdown",
      "source": [
        "Vamos a explorar nuestros gráficos con un diagrama en SnS.\n",
        "\n",
        "Para esto vamos a realizar una segmentación de nuestras características a analizar, en este caso tomaremos:"
      ],
      "metadata": {
        "id": "5uTJYonbP0WF"
      },
      "id": "5uTJYonbP0WF"
    },
    {
      "cell_type": "code",
      "source": [
        "segmento = [\"funny\",\t\"helpful\",\t\"hour_played\"]\n",
        "\n",
        "\n",
        "fig = plt.figure(figsize=(12,10))\n",
        "sns.pairplot(steam_data[segmento][0:100], hue=\"helpful\" , diag_kind = \"hist\")\n",
        "\n",
        "plt.show()"
      ],
      "metadata": {
        "id": "8AtiuuGWuCaK",
        "colab": {
          "base_uri": "https://localhost:8080/",
          "height": 391
        },
        "outputId": "e1fa8231-32b0-4882-cb1b-6c1d5f824c17"
      },
      "id": "8AtiuuGWuCaK",
      "execution_count": null,
      "outputs": [
        {
          "output_type": "display_data",
          "data": {
            "text/plain": [
              "<Figure size 864x720 with 0 Axes>"
            ]
          },
          "metadata": {}
        },
        {
          "output_type": "display_data",
          "data": {
            "text/plain": [
              "<Figure size 421.25x360 with 6 Axes>"
            ],
            "image/png": "[encoded data removed]"
          },
          "metadata": {
            "needs_background": "light"
          }
        }
      ]
    },
    {
      "cell_type": "code",
      "source": [
        "#Comprobación de la existencia de NaN's en nuestra tabla\n",
        "#Comprobamos que ya no existan NaN's\n",
        "\n",
        "Nan = steam_data[steam_data.isna().any(axis=1)]\n",
        "#print(Nan)\n",
        "\n",
        "#Como en la tabla existen NaN´s los vamos a eliminar\n",
        "steam_data = steam_data.fillna(0)"
      ],
      "metadata": {
        "id": "QQl_l3MnQ9Ne"
      },
      "id": "QQl_l3MnQ9Ne",
      "execution_count": null,
      "outputs": []
    },
    {
      "cell_type": "code",
      "source": [
        "#Comprobamos que ya no existan NaN's\n",
        "\n",
        "Nan = steam_data[steam_data.isna().any(axis=1)]\n",
        "print(Nan)"
      ],
      "metadata": {
        "colab": {
          "base_uri": "https://localhost:8080/"
        },
        "id": "znCSp4MpUfSp",
        "outputId": "ef16830d-e1ec-4173-94df-037ca58bc171"
      },
      "id": "znCSp4MpUfSp",
      "execution_count": null,
      "outputs": [
        {
          "output_type": "stream",
          "name": "stdout",
          "text": [
            "Empty DataFrame\n",
            "Columns: [date_posted, funny, helpful, hour_played, is_early_access_review, recommendation, review, title]\n",
            "Index: []\n"
          ]
        }
      ]
    },
    {
      "cell_type": "code",
      "source": [
        ""
      ],
      "metadata": {
        "id": "wFF8l3fquFk3"
      },
      "id": "wFF8l3fquFk3",
      "execution_count": null,
      "outputs": []
    },
    {
      "cell_type": "markdown",
      "source": [
        "# Clasificación por medio de T-sne"
      ],
      "metadata": {
        "id": "ELdtOy_qRnmA"
      },
      "id": "ELdtOy_qRnmA"
    },
    {
      "cell_type": "code",
      "source": [
        "#Convertimos las \"recomendaciones\" en una variable booleana.\n",
        "\n",
        "steam_data.loc[steam_data[\"recommendation\"] == \"Recommended\", \"recommendation\"] = 1\n",
        "steam_data.loc[steam_data[\"recommendation\"] == \"Not Recommended\", \"recommendation\"] = 0\n",
        "\n",
        "steam_data[\"recommendation\"] = steam_data[\"recommendation\"].astype(\"float64\")"
      ],
      "metadata": {
        "id": "XahDREyDRtZ1"
      },
      "id": "XahDREyDRtZ1",
      "execution_count": null,
      "outputs": []
    },
    {
      "cell_type": "code",
      "source": [
        "#Ahora vamos a agrupar los datos cercanos y separar los datos diferentes por medio de TSNE.\n",
        "\n",
        "#Quitamos los datos no númericoas del dataset\n",
        "no_numeri = [\"date_posted\", \"review\", \"title\",\"is_early_access_review\"]\n",
        "\n",
        "set_numerico = steam_data[0:100].drop(no_numeri, axis=1)\n",
        "\n",
        "print(\"Las dimensiones de nuestro DataSet tienen : \" + str(set_numerico.shape[0]) + \" filas y \" + str(set_numerico.shape[1]) + \" columnas.\")"
      ],
      "metadata": {
        "colab": {
          "base_uri": "https://localhost:8080/"
        },
        "id": "850SjA9tRtcu",
        "outputId": "31b8e0fd-9d13-42a6-8323-e2aefb72dfd0"
      },
      "id": "850SjA9tRtcu",
      "execution_count": null,
      "outputs": [
        {
          "output_type": "stream",
          "name": "stdout",
          "text": [
            "Las dimensiones de nuestro DataSet tienen : 100 filas y 4 columnas.\n"
          ]
        }
      ]
    },
    {
      "cell_type": "code",
      "source": [
        "#Procedemos a crear un modelo t-SNE con un aprendizaje de 50\n",
        "\n",
        "m = TSNE(learning_rate = 50)\n",
        "\n",
        "# Ajuste y transformación del modelo t-SNE en el conjunto de datos numéricos\n",
        "tsne_features = m.fit_transform(set_numerico)\n",
        "#print(tsne_features.shape)\n",
        "print(\"Después del TSNE las dimensiones de nuestro DataSet tienen : \" + str(tsne_features.shape[0]) + \" filas y \" + str(tsne_features.shape[1]) + \" columnas.\")"
      ],
      "metadata": {
        "colab": {
          "base_uri": "https://localhost:8080/"
        },
        "id": "bAFyxu98RtfL",
        "outputId": "68c9534b-b4f0-4140-dd90-d677e0bc8b4e"
      },
      "id": "bAFyxu98RtfL",
      "execution_count": null,
      "outputs": [
        {
          "output_type": "stream",
          "name": "stderr",
          "text": [
            "/usr/local/lib/python3.7/dist-packages/sklearn/manifold/_t_sne.py:783: FutureWarning: The default initialization in TSNE will change from 'random' to 'pca' in 1.2.\n",
            "  FutureWarning,\n"
          ]
        },
        {
          "output_type": "stream",
          "name": "stdout",
          "text": [
            "Después del TSNE las dimensiones de nuestro DataSet tienen : 100 filas y 2 columnas.\n"
          ]
        }
      ]
    },
    {
      "cell_type": "code",
      "source": [
        "#Verificamos que demonios quedó como las dos columnas restantes\n",
        "\n",
        "print(tsne_features[:, 0 ]) #<---- Para las X\n",
        "print(tsne_features[:, 1 ]) #<---- Para las Y"
      ],
      "metadata": {
        "colab": {
          "base_uri": "https://localhost:8080/"
        },
        "id": "d-M6egQaRthz",
        "outputId": "95aaf125-173a-45f2-8990-121bdcf1a985"
      },
      "id": "d-M6egQaRthz",
      "execution_count": null,
      "outputs": [
        {
          "output_type": "stream",
          "name": "stdout",
          "text": [
            "[ 2.325645    4.629101    1.224278    0.2612124   0.0628176  -0.5501049\n",
            "  7.277162    7.4938254   2.8615026   0.7160624   0.9614286  -0.13874592\n",
            "  0.90339494  4.182173    1.9900353   2.6843503  -0.64645505  0.45304403\n",
            "  2.8049972   4.234369    0.44371712  6.16679     4.0576057   2.4721057\n",
            "  4.691583    5.50797     5.7200274   5.523687    3.8642454   5.121405\n",
            "  5.482132    4.6542096   1.4880066   6.161672    4.279893    1.2638956\n",
            "  1.0105191   4.733615    0.69315284  3.2100577   3.3012123   4.500983\n",
            "  5.6095376   4.6867847   5.080566    5.9510045   1.481175    4.3714137\n",
            "  2.260096    0.71413827  3.4651372   3.7740142   6.3748555   3.4073088\n",
            "  6.2493405   3.9863772   5.740095    3.436104    4.17469     3.0914116\n",
            "  5.900046    2.177809    5.4246025   4.9737773   4.9975643   3.6791399\n",
            "  1.673987    4.9131036   6.3883386   3.989337    5.615851    0.67730033\n",
            "  5.43996     5.911935    2.5775428   5.4864783   4.205994    4.955314\n",
            "  1.4291525   3.7507591   4.6512537   4.9250865   2.8773334   4.729533\n",
            "  5.392348    5.4246025   2.8378413   5.6555367   4.2315645   0.95624155\n",
            "  0.7778476   6.358975    3.8498375   3.4922385   3.2173417   5.5846033\n",
            "  3.537409    1.3851352   6.3916936   6.116926  ]\n",
            "[ 4.239463   -1.1121985   5.700488    2.3657584   2.1567986   7.2883425\n",
            " -4.678777   -4.3110037   2.6217756   2.4940035   5.56354     7.1017556\n",
            "  4.251268   -0.13477689  4.695034    3.6926935   7.326902    6.91044\n",
            "  3.45611    -1.2001293   6.917099   -5.7352986   0.37623057  4.0476456\n",
            " -1.4318565  -6.3263407  -4.9944224  -6.4433465   0.6218629  -3.636437\n",
            " -4.7222347  -1.1834553   5.270201   -6.7118883  -1.4496672   5.628465\n",
            "  6.0850787  -2.3075538   6.68378     2.6781745   2.4353654  -1.6733434\n",
            " -4.79758    -2.4895384  -3.4961944  -6.743786    5.27886    -0.8706043\n",
            "  4.360244    6.6507535   1.8782057   0.83881974 -6.4844713   2.0542154\n",
            " -6.641113   -0.14357962 -6.7002497   1.9599887  -0.13816349  2.945595\n",
            " -5.25632     4.4542904  -5.275599   -3.0723536  -2.6353521   1.2395949\n",
            "  5.061261   -2.9349623  -6.1334395   0.50032455 -6.0681133   6.7046695\n",
            " -4.9270897  -5.2842193   3.8853157  -5.560071   -0.41542095 -3.0409448\n",
            "  5.3372197   0.9906381  -1.9165792  -2.4559062   3.336422   -2.7055824\n",
            " -4.5097156  -5.275599    3.4009988  -6.6548967  -1.1627673   6.182872\n",
            "  6.532092   -6.1142745   0.21253987  1.7564682   2.6840866  -6.0738587\n",
            "  1.6273624   5.4159913  -6.254702   -5.8533115 ]\n"
          ]
        }
      ]
    },
    {
      "cell_type": "code",
      "source": [
        "#Asignamos las columnas resultantes del proceso anterior a las variables X y Y\n",
        "\n",
        "x = tsne_features[:, 0 ]\n",
        "y = tsne_features[:, 1 ]\n",
        "\n",
        "steam_data = steam_data[0:100]\n",
        "#Le agregamos las dos columnas a nuestro DatSet\n",
        "\n",
        "steam_data[\"x\"] = x\n",
        "\n",
        "steam_data[\"y\"] = y"
      ],
      "metadata": {
        "colab": {
          "base_uri": "https://localhost:8080/"
        },
        "id": "XJ2cuWnjYkGO",
        "outputId": "ac5b6383-5299-4683-971f-3867ad0ef221"
      },
      "id": "XJ2cuWnjYkGO",
      "execution_count": null,
      "outputs": [
        {
          "output_type": "stream",
          "name": "stderr",
          "text": [
            "/usr/local/lib/python3.7/dist-packages/ipykernel_launcher.py:9: SettingWithCopyWarning: \n",
            "A value is trying to be set on a copy of a slice from a DataFrame.\n",
            "Try using .loc[row_indexer,col_indexer] = value instead\n",
            "\n",
            "See the caveats in the documentation: https://pandas.pydata.org/pandas-docs/stable/user_guide/indexing.html#returning-a-view-versus-a-copy\n",
            "  if __name__ == '__main__':\n",
            "/usr/local/lib/python3.7/dist-packages/ipykernel_launcher.py:11: SettingWithCopyWarning: \n",
            "A value is trying to be set on a copy of a slice from a DataFrame.\n",
            "Try using .loc[row_indexer,col_indexer] = value instead\n",
            "\n",
            "See the caveats in the documentation: https://pandas.pydata.org/pandas-docs/stable/user_guide/indexing.html#returning-a-view-versus-a-copy\n",
            "  # This is added back by InteractiveShellApp.init_path()\n"
          ]
        }
      ]
    },
    {
      "cell_type": "code",
      "source": [
        "#verificamos que se hayan agregado\n",
        "steam_data.head()"
      ],
      "metadata": {
        "colab": {
          "base_uri": "https://localhost:8080/",
          "height": 206
        },
        "id": "GPiPk_5-RtnS",
        "outputId": "c2574e92-3143-487e-a9a6-834dc14e1b80"
      },
      "id": "GPiPk_5-RtnS",
      "execution_count": null,
      "outputs": [
        {
          "output_type": "execute_result",
          "data": {
            "text/plain": [
              "  date_posted  funny  helpful  hour_played  is_early_access_review  \\\n",
              "0  2019-02-10      2        4          578                   False   \n",
              "1  2019-02-10      0        0          184                   False   \n",
              "2  2019-02-07      0        0          892                   False   \n",
              "3  2018-06-14    126     1086          676                   False   \n",
              "4  2017-06-20     85     2139          612                   False   \n",
              "\n",
              "   recommendation                                             review  \\\n",
              "0             1.0  &gt Played as German Reich&gt Declare war on B...   \n",
              "1             1.0                                               yes.   \n",
              "2             1.0  Very good game although a bit overpriced in my...   \n",
              "3             1.0  Out of all the reviews I wrote This one is pro...   \n",
              "4             1.0  Disclaimer I survivor main. I play games for f...   \n",
              "\n",
              "                                         title         x         y  \n",
              "0  Expansion - Hearts of Iron IV: Man the Guns  2.325645  4.239463  \n",
              "1  Expansion - Hearts of Iron IV: Man the Guns  4.629101 -1.112198  \n",
              "2  Expansion - Hearts of Iron IV: Man the Guns  1.224278  5.700488  \n",
              "3                             Dead by Daylight  0.261212  2.365758  \n",
              "4                             Dead by Daylight  0.062818  2.156799  "
            ],
            "text/html": [
              "\n",
              "  <div id=\"df-40c39ecf-a8b8-4553-ae3a-692eda73aed7\">\n",
              "    <div class=\"colab-df-container\">\n",
              "      <div>\n",
              "<style scoped>\n",
              "    .dataframe tbody tr th:only-of-type {\n",
              "        vertical-align: middle;\n",
              "    }\n",
              "\n",
              "    .dataframe tbody tr th {\n",
              "        vertical-align: top;\n",
              "    }\n",
              "\n",
              "    .dataframe thead th {\n",
              "        text-align: right;\n",
              "    }\n",
              "</style>\n",
              "<table border=\"1\" class=\"dataframe\">\n",
              "  <thead>\n",
              "    <tr style=\"text-align: right;\">\n",
              "      <th></th>\n",
              "      <th>date_posted</th>\n",
              "      <th>funny</th>\n",
              "      <th>helpful</th>\n",
              "      <th>hour_played</th>\n",
              "      <th>is_early_access_review</th>\n",
              "      <th>recommendation</th>\n",
              "      <th>review</th>\n",
              "      <th>title</th>\n",
              "      <th>x</th>\n",
              "      <th>y</th>\n",
              "    </tr>\n",
              "  </thead>\n",
              "  <tbody>\n",
              "    <tr>\n",
              "      <th>0</th>\n",
              "      <td>2019-02-10</td>\n",
              "      <td>2</td>\n",
              "      <td>4</td>\n",
              "      <td>578</td>\n",
              "      <td>False</td>\n",
              "      <td>1.0</td>\n",
              "      <td>&amp;gt Played as German Reich&amp;gt Declare war on B...</td>\n",
              "      <td>Expansion - Hearts of Iron IV: Man the Guns</td>\n",
              "      <td>2.325645</td>\n",
              "      <td>4.239463</td>\n",
              "    </tr>\n",
              "    <tr>\n",
              "      <th>1</th>\n",
              "      <td>2019-02-10</td>\n",
              "      <td>0</td>\n",
              "      <td>0</td>\n",
              "      <td>184</td>\n",
              "      <td>False</td>\n",
              "      <td>1.0</td>\n",
              "      <td>yes.</td>\n",
              "      <td>Expansion - Hearts of Iron IV: Man the Guns</td>\n",
              "      <td>4.629101</td>\n",
              "      <td>-1.112198</td>\n",
              "    </tr>\n",
              "    <tr>\n",
              "      <th>2</th>\n",
              "      <td>2019-02-07</td>\n",
              "      <td>0</td>\n",
              "      <td>0</td>\n",
              "      <td>892</td>\n",
              "      <td>False</td>\n",
              "      <td>1.0</td>\n",
              "      <td>Very good game although a bit overpriced in my...</td>\n",
              "      <td>Expansion - Hearts of Iron IV: Man the Guns</td>\n",
              "      <td>1.224278</td>\n",
              "      <td>5.700488</td>\n",
              "    </tr>\n",
              "    <tr>\n",
              "      <th>3</th>\n",
              "      <td>2018-06-14</td>\n",
              "      <td>126</td>\n",
              "      <td>1086</td>\n",
              "      <td>676</td>\n",
              "      <td>False</td>\n",
              "      <td>1.0</td>\n",
              "      <td>Out of all the reviews I wrote This one is pro...</td>\n",
              "      <td>Dead by Daylight</td>\n",
              "      <td>0.261212</td>\n",
              "      <td>2.365758</td>\n",
              "    </tr>\n",
              "    <tr>\n",
              "      <th>4</th>\n",
              "      <td>2017-06-20</td>\n",
              "      <td>85</td>\n",
              "      <td>2139</td>\n",
              "      <td>612</td>\n",
              "      <td>False</td>\n",
              "      <td>1.0</td>\n",
              "      <td>Disclaimer I survivor main. I play games for f...</td>\n",
              "      <td>Dead by Daylight</td>\n",
              "      <td>0.062818</td>\n",
              "      <td>2.156799</td>\n",
              "    </tr>\n",
              "  </tbody>\n",
              "</table>\n",
              "</div>\n",
              "      <button class=\"colab-df-convert\" onclick=\"convertToInteractive('df-40c39ecf-a8b8-4553-ae3a-692eda73aed7')\"\n",
              "              title=\"Convert this dataframe to an interactive table.\"\n",
              "              style=\"display:none;\">\n",
              "        \n",
              "  <svg xmlns=\"http://www.w3.org/2000/svg\" height=\"24px\"viewBox=\"0 0 24 24\"\n",
              "       width=\"24px\">\n",
              "    <path d=\"M0 0h24v24H0V0z\" fill=\"none\"/>\n",
              "    <path d=\"M18.56 5.44l.94 2.06.94-2.06 2.06-.94-2.06-.94-.94-2.06-.94 2.06-2.06.94zm-11 1L8.5 8.5l.94-2.06 2.06-.94-2.06-.94L8.5 2.5l-.94 2.06-2.06.94zm10 10l.94 2.06.94-2.06 2.06-.94-2.06-.94-.94-2.06-.94 2.06-2.06.94z\"/><path d=\"M17.41 7.96l-1.37-1.37c-.4-.4-.92-.59-1.43-.59-.52 0-1.04.2-1.43.59L10.3 9.45l-7.72 7.72c-.78.78-.78 2.05 0 2.83L4 21.41c.39.39.9.59 1.41.59.51 0 1.02-.2 1.41-.59l7.78-7.78 2.81-2.81c.8-.78.8-2.07 0-2.86zM5.41 20L4 18.59l7.72-7.72 1.47 1.35L5.41 20z\"/>\n",
              "  </svg>\n",
              "      </button>\n",
              "      \n",
              "  <style>\n",
              "    .colab-df-container {\n",
              "      display:flex;\n",
              "      flex-wrap:wrap;\n",
              "      gap: 12px;\n",
              "    }\n",
              "\n",
              "    .colab-df-convert {\n",
              "      background-color: #E8F0FE;\n",
              "      border: none;\n",
              "      border-radius: 50%;\n",
              "      cursor: pointer;\n",
              "      display: none;\n",
              "      fill: #1967D2;\n",
              "      height: 32px;\n",
              "      padding: 0 0 0 0;\n",
              "      width: 32px;\n",
              "    }\n",
              "\n",
              "    .colab-df-convert:hover {\n",
              "      background-color: #E2EBFA;\n",
              "      box-shadow: 0px 1px 2px rgba(60, 64, 67, 0.3), 0px 1px 3px 1px rgba(60, 64, 67, 0.15);\n",
              "      fill: #174EA6;\n",
              "    }\n",
              "\n",
              "    [theme=dark] .colab-df-convert {\n",
              "      background-color: #3B4455;\n",
              "      fill: #D2E3FC;\n",
              "    }\n",
              "\n",
              "    [theme=dark] .colab-df-convert:hover {\n",
              "      background-color: #434B5C;\n",
              "      box-shadow: 0px 1px 3px 1px rgba(0, 0, 0, 0.15);\n",
              "      filter: drop-shadow(0px 1px 2px rgba(0, 0, 0, 0.3));\n",
              "      fill: #FFFFFF;\n",
              "    }\n",
              "  </style>\n",
              "\n",
              "      <script>\n",
              "        const buttonEl =\n",
              "          document.querySelector('#df-40c39ecf-a8b8-4553-ae3a-692eda73aed7 button.colab-df-convert');\n",
              "        buttonEl.style.display =\n",
              "          google.colab.kernel.accessAllowed ? 'block' : 'none';\n",
              "\n",
              "        async function convertToInteractive(key) {\n",
              "          const element = document.querySelector('#df-40c39ecf-a8b8-4553-ae3a-692eda73aed7');\n",
              "          const dataTable =\n",
              "            await google.colab.kernel.invokeFunction('convertToInteractive',\n",
              "                                                     [key], {});\n",
              "          if (!dataTable) return;\n",
              "\n",
              "          const docLinkHtml = 'Like what you see? Visit the ' +\n",
              "            '<a target=\"_blank\" href=https://colab.research.google.com/notebooks/data_table.ipynb>data table notebook</a>'\n",
              "            + ' to learn more about interactive tables.';\n",
              "          element.innerHTML = '';\n",
              "          dataTable['output_type'] = 'display_data';\n",
              "          await google.colab.output.renderOutput(dataTable, element);\n",
              "          const docLink = document.createElement('div');\n",
              "          docLink.innerHTML = docLinkHtml;\n",
              "          element.appendChild(docLink);\n",
              "        }\n",
              "      </script>\n",
              "    </div>\n",
              "  </div>\n",
              "  "
            ]
          },
          "metadata": {},
          "execution_count": 33
        }
      ]
    },
    {
      "cell_type": "code",
      "source": [
        "#Ahora si, procedemos a verificar nuestros datos de manera visual\n",
        "\n",
        "#Construimos un scatterplot\n",
        "fig = plt.figure(figsize =(15,15))\n",
        "sns.scatterplot(x=\"x\", y=\"y\", hue='hour_played', data=steam_data)\n",
        "\n",
        "plt.show()"
      ],
      "metadata": {
        "colab": {
          "base_uri": "https://localhost:8080/",
          "height": 880
        },
        "id": "-TzyAZvQRtrc",
        "outputId": "79fff9c0-0f9f-41cd-847d-2e287da8aef0"
      },
      "id": "-TzyAZvQRtrc",
      "execution_count": null,
      "outputs": [
        {
          "output_type": "display_data",
          "data": {
            "text/plain": [
              "<Figure size 1080x1080 with 1 Axes>"
            ],
            "image/png": "[encoded data removed]"
          },
          "metadata": {
            "needs_background": "light"
          }
        }
      ]
    },
    {
      "cell_type": "markdown",
      "source": [
        "#Construcción de un modelo"
      ],
      "metadata": {
        "id": "VGwIVUMtWe3y"
      },
      "id": "VGwIVUMtWe3y"
    },
    {
      "cell_type": "code",
      "source": [
        "#Se selecciona la variable a predecir \n",
        "y = set_numerico[\"recommendation\"]\n",
        "\n",
        "#Removemos la varible predictora del conjunto de datos\n",
        "X = set_numerico.drop(\"recommendation\" , axis = 1)\n",
        "\n",
        "\n",
        "#Contruimos el conjunto para los datos 70% de entrenamiento y 30% de prueba\n",
        "X_train, X_test, y_train, y_test = train_test_split(X, y, test_size=0.3)\n",
        "\n",
        "print(\"{} filas en el conjunto de prueba vs. {} en el conjunto de entrenamiento. {} Características.\".format(X_test.shape[0], X_train.shape[0], X_test.shape[1]))"
      ],
      "metadata": {
        "colab": {
          "base_uri": "https://localhost:8080/"
        },
        "id": "i4WZ-_1kWhhv",
        "outputId": "b848287a-ed82-4f88-b507-cb4f746ba842"
      },
      "id": "i4WZ-_1kWhhv",
      "execution_count": null,
      "outputs": [
        {
          "output_type": "stream",
          "name": "stdout",
          "text": [
            "30 filas en el conjunto de prueba vs. 70 en el conjunto de entrenamiento. 3 Características.\n"
          ]
        }
      ]
    },
    {
      "cell_type": "code",
      "source": [
        "#Entrenamiento de los datos\n",
        "\n",
        "# Create an instance of the Support Vector Classification class\n",
        "svc = SVC()\n",
        "\n",
        "# Fit the model to the training data\n",
        "svc.fit(X_train, y_train)\n",
        "\n",
        "# Calculate accuracy scores on both train and test data\n",
        "accuracy_train = accuracy_score(y_train, svc.predict(X_train))\n",
        "accuracy_test = accuracy_score(y_test, svc.predict(X_test))\n",
        "\n",
        "print(\"{0:.1%} exactitud en el conjunto de prueba vs. {1:.1%} en el conjunto de entrenamiento\".format(accuracy_test, accuracy_train))"
      ],
      "metadata": {
        "colab": {
          "base_uri": "https://localhost:8080/"
        },
        "id": "AklhtRm6WhkK",
        "outputId": "ad0d71ce-52db-4a98-9a4f-d76177878729"
      },
      "id": "AklhtRm6WhkK",
      "execution_count": null,
      "outputs": [
        {
          "output_type": "stream",
          "name": "stdout",
          "text": [
            "86.7% exactitud en el conjunto de prueba vs. 88.6% en el conjunto de entrenamiento\n"
          ]
        }
      ]
    },
    {
      "cell_type": "code",
      "source": [
        "#Quitamos x e y\n",
        "tirar = [\"x\",\"y\"]\n",
        "steam_data = steam_data.drop(tirar, axis=1)"
      ],
      "metadata": {
        "id": "-IA-vxFkZyTM"
      },
      "id": "-IA-vxFkZyTM",
      "execution_count": null,
      "outputs": []
    },
    {
      "cell_type": "code",
      "source": [
        "#Encontrar un buen umbral de varianza ¯\\_(ツ)_/¯\n",
        "\n",
        "#Para ello construimos un boxplot y vemos que tan dispersos están nuestros datos\n",
        "\n",
        "fig = plt.figure(figsize =(10,10))\n",
        "\n",
        "set_numerico.boxplot()\n",
        "plt.ylim(0,100)\n",
        "plt.show()\n",
        "\n",
        "#Resumen, mucho"
      ],
      "metadata": {
        "id": "LVLx1vAuWhpC",
        "colab": {
          "base_uri": "https://localhost:8080/",
          "height": 596
        },
        "outputId": "7161f0dd-ef9a-40cb-dba9-f9a028a6a600"
      },
      "id": "LVLx1vAuWhpC",
      "execution_count": null,
      "outputs": [
        {
          "output_type": "display_data",
          "data": {
            "text/plain": [
              "<Figure size 720x720 with 1 Axes>"
            ],
            "image/png": "[encoded data removed]"
          },
          "metadata": {
            "needs_background": "light"
          }
        }
      ]
    },
    {
      "cell_type": "code",
      "source": [
        "# Imprimimos las varianzas de los datos antes de normalizar\n",
        "print(set_numerico.var())"
      ],
      "metadata": {
        "colab": {
          "base_uri": "https://localhost:8080/"
        },
        "id": "a1JdeIuNJHK3",
        "outputId": "7a76ea8b-b59c-4b71-945e-3979f676de6c"
      },
      "id": "a1JdeIuNJHK3",
      "execution_count": null,
      "outputs": [
        {
          "output_type": "stream",
          "name": "stdout",
          "text": [
            "funny               3306.978889\n",
            "helpful            61579.303030\n",
            "hour_played       300347.658182\n",
            "recommendation         0.106667\n",
            "dtype: float64\n"
          ]
        }
      ]
    },
    {
      "cell_type": "code",
      "source": [
        "# Normalizamos los datos \n",
        "\n",
        "fig = plt.figure(figsize =(10,10))\n",
        "normalized_df = set_numerico / set_numerico.mean()\n",
        "\n",
        "normalized_df.boxplot()\n",
        "plt.show()"
      ],
      "metadata": {
        "colab": {
          "base_uri": "https://localhost:8080/",
          "height": 592
        },
        "id": "I3cuPrrbJlaB",
        "outputId": "c2e6b199-67fa-4f5d-bdeb-600ebd866680"
      },
      "id": "I3cuPrrbJlaB",
      "execution_count": null,
      "outputs": [
        {
          "output_type": "display_data",
          "data": {
            "text/plain": [
              "<Figure size 720x720 with 1 Axes>"
            ],
            "image/png": "[encoded data removed]"
          },
          "metadata": {
            "needs_background": "light"
          }
        }
      ]
    },
    {
      "cell_type": "code",
      "source": [
        "# Imprimimos las varianzas de los datos ya normalizados\n",
        "print(normalized_df.var())"
      ],
      "metadata": {
        "colab": {
          "base_uri": "https://localhost:8080/"
        },
        "id": "cmF1eeceKHJI",
        "outputId": "850811cf-3f56-46fd-e130-bc366a8201bc"
      },
      "id": "cmF1eeceKHJI",
      "execution_count": null,
      "outputs": [
        {
          "output_type": "stream",
          "name": "stdout",
          "text": [
            "funny             19.477921\n",
            "helpful           25.542993\n",
            "hour_played        1.657205\n",
            "recommendation     0.137741\n",
            "dtype: float64\n"
          ]
        }
      ]
    },
    {
      "cell_type": "code",
      "source": [
        "# Create a VarianceThreshold feature selector\n",
        "sel = VarianceThreshold(threshold=0.1)\n",
        "\n",
        "# Fit the selector to normalized head_df\n",
        "sel.fit(normalized_df / normalized_df.mean())\n",
        "\n",
        "# Create a boolean mask\n",
        "mask = sel.get_support()\n",
        "\n",
        "# Apply the mask to create a reduced dataframe\n",
        "reduced_df = normalized_df.loc[:, mask]\n",
        "\n",
        "print(\"Dimensionality reduced from {} to {}.\".format(normalized_df.shape[1], reduced_df.shape[1]))"
      ],
      "metadata": {
        "colab": {
          "base_uri": "https://localhost:8080/"
        },
        "id": "EkP1IUVVKHrs",
        "outputId": "f0dd5ac1-f799-4765-b406-edcf13dbf921"
      },
      "id": "EkP1IUVVKHrs",
      "execution_count": null,
      "outputs": [
        {
          "output_type": "stream",
          "name": "stdout",
          "text": [
            "Dimensionality reduced from 4 to 4.\n"
          ]
        }
      ]
    },
    {
      "cell_type": "code",
      "source": [
        "# Generate a mask for the upper triangle\n",
        "mask = np.triu(np.ones_like(corr, dtype=bool))\n",
        "\n",
        "# Add the mask to the heatmap\n",
        "sns.heatmap(corr, mask=mask, cmap=\"YlGnBu\", center=0, linewidths=1, annot=True, fmt=\".2f\")\n",
        "plt.show()\n"
      ],
      "metadata": {
        "colab": {
          "base_uri": "https://localhost:8080/",
          "height": 340
        },
        "id": "L3q7mVOjKHui",
        "outputId": "24a275f9-313d-404b-bcce-9b77c76edb01"
      },
      "id": "L3q7mVOjKHui",
      "execution_count": null,
      "outputs": [
        {
          "output_type": "display_data",
          "data": {
            "text/plain": [
              "<Figure size 432x288 with 2 Axes>"
            ],
            "image/png": "[encoded data removed]"
          },
          "metadata": {
            "needs_background": "light"
          }
        }
      ]
    },
    {
      "cell_type": "markdown",
      "source": [
        "# Clasificación por medio de PCA"
      ],
      "metadata": {
        "id": "_UXCnG3EKr9_"
      },
      "id": "_UXCnG3EKr9_"
    },
    {
      "cell_type": "code",
      "source": [
        ""
      ],
      "metadata": {
        "id": "S22aaioQKlDC"
      },
      "id": "S22aaioQKlDC",
      "execution_count": null,
      "outputs": []
    },
    {
      "cell_type": "code",
      "source": [
        ""
      ],
      "metadata": {
        "id": "954yFde9KlGD"
      },
      "id": "954yFde9KlGD",
      "execution_count": null,
      "outputs": []
    },
    {
      "cell_type": "code",
      "source": [
        ""
      ],
      "metadata": {
        "id": "VjCSIbctKlJF"
      },
      "id": "VjCSIbctKlJF",
      "execution_count": null,
      "outputs": []
    },
    {
      "cell_type": "code",
      "source": [
        ""
      ],
      "metadata": {
        "id": "VZ--Ea1iKlMM"
      },
      "id": "VZ--Ea1iKlMM",
      "execution_count": null,
      "outputs": []
    },
    {
      "cell_type": "code",
      "source": [
        ""
      ],
      "metadata": {
        "id": "TdlhfLTiKlO5"
      },
      "id": "TdlhfLTiKlO5",
      "execution_count": null,
      "outputs": []
    },
    {
      "cell_type": "code",
      "source": [
        ""
      ],
      "metadata": {
        "id": "u2570b8GKlSM"
      },
      "id": "u2570b8GKlSM",
      "execution_count": null,
      "outputs": []
    },
    {
      "cell_type": "code",
      "source": [
        ""
      ],
      "metadata": {
        "id": "cjjVyLtbKlU8"
      },
      "id": "cjjVyLtbKlU8",
      "execution_count": null,
      "outputs": []
    }
  ],
  "metadata": {
    "kernelspec": {
      "display_name": "Python 3",
      "language": "python",
      "name": "python3"
    },
    "language_info": {
      "codemirror_mode": {
        "name": "ipython",
        "version": 3
      },
      "file_extension": ".py",
      "mimetype": "text/x-python",
      "name": "python",
      "nbconvert_exporter": "python",
      "pygments_lexer": "ipython3",
      "version": "3.8.8"
    },
    "colab": {
      "name": "Steam Reviews Dataset.ipynb",
      "provenance": [],
      "collapsed_sections": [],
      "include_colab_link": true
    }
  },
  "nbformat": 4,
  "nbformat_minor": 5
}