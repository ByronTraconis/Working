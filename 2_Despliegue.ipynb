{
  "nbformat": 4,
  "nbformat_minor": 0,
  "metadata": {
    "colab": {
      "provenance": [],
      "collapsed_sections": [],
      "authorship_tag": "ABX9TyPfB4AzL2g5mjM8m1TJUexh"
    },
    "kernelspec": {
      "name": "python3",
      "display_name": "Python 3"
    },
    "language_info": {
      "name": "python"
    },
    "widgets": {
      "application/vnd.jupyter.widget-state+json": {
        "7732847eaa1b4331b546948d1e4bb8a1": {
          "model_module": "@jupyter-widgets/controls",
          "model_name": "VBoxModel",
          "model_module_version": "1.5.0",
          "state": {
            "_dom_classes": [],
            "_model_module": "@jupyter-widgets/controls",
            "_model_module_version": "1.5.0",
            "_model_name": "VBoxModel",
            "_view_count": null,
            "_view_module": "@jupyter-widgets/controls",
            "_view_module_version": "1.5.0",
            "_view_name": "VBoxView",
            "box_style": "",
            "children": [
              "IPY_MODEL_d59bc98ed75a4835ae4dee1c87ffb305",
              "IPY_MODEL_3c136de717264c2e9ed54c1ee9405edd",
              "IPY_MODEL_2e3e4e758a4b486196dd8cb008239a95",
              "IPY_MODEL_73f508a8548242a283d38a8408b87614"
            ],
            "layout": "IPY_MODEL_d54670b8c4de4200b5e10d449726a1a2"
          }
        },
        "d59bc98ed75a4835ae4dee1c87ffb305": {
          "model_module": "@jupyter-widgets/controls",
          "model_name": "LabelModel",
          "model_module_version": "1.5.0",
          "state": {
            "_dom_classes": [],
            "_model_module": "@jupyter-widgets/controls",
            "_model_module_version": "1.5.0",
            "_model_name": "LabelModel",
            "_view_count": null,
            "_view_module": "@jupyter-widgets/controls",
            "_view_module_version": "1.5.0",
            "_view_name": "LabelView",
            "description": "",
            "description_tooltip": null,
            "layout": "IPY_MODEL_7f1d16a9b86c450b9e21d4a745f23467",
            "placeholder": "​",
            "style": "IPY_MODEL_cfc908d256894d78be8c7b34d76ebbb7",
            "value": "Selecciona una pintura!"
          }
        },
        "3c136de717264c2e9ed54c1ee9405edd": {
          "model_module": "@jupyter-widgets/controls",
          "model_name": "FileUploadModel",
          "model_module_version": "1.5.0",
          "state": {
            "_counter": 1,
            "_dom_classes": [],
            "_model_module": "@jupyter-widgets/controls",
            "_model_module_version": "1.5.0",
            "_model_name": "FileUploadModel",
            "_view_count": null,
            "_view_module": "@jupyter-widgets/controls",
            "_view_module_version": "1.5.0",
            "_view_name": "FileUploadView",
            "accept": "",
            "button_style": "",
            "data": [
              null
            ],
            "description": "Upload",
            "description_tooltip": null,
            "disabled": false,
            "error": "",
            "icon": "upload",
            "layout": "IPY_MODEL_ce83e2c82a1248ea8e860e7e863fc077",
            "metadata": [
              {
                "name": "salvador-dali-cristo-de-san-juan-de-la-cruz1.jpg",
                "type": "image/jpeg",
                "size": 73136,
                "lastModified": 1668239533730
              }
            ],
            "multiple": false,
            "style": "IPY_MODEL_54544dc8204a4d708c39df65c5327ccf"
          }
        },
        "2e3e4e758a4b486196dd8cb008239a95": {
          "model_module": "@jupyter-widgets/output",
          "model_name": "OutputModel",
          "model_module_version": "1.0.0",
          "state": {
            "_dom_classes": [],
            "_model_module": "@jupyter-widgets/output",
            "_model_module_version": "1.0.0",
            "_model_name": "OutputModel",
            "_view_count": null,
            "_view_module": "@jupyter-widgets/output",
            "_view_module_version": "1.0.0",
            "_view_name": "OutputView",
            "layout": "IPY_MODEL_b5618cd5c9d740489c43bc08dfca90b6",
            "msg_id": "",
            "outputs": [
              {
                "output_type": "display_data",
                "data": {
                  "text/plain": "<PIL.Image.Image image mode=RGB size=96x128>",
                  "image/png": "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\n"
                },
                "metadata": {}
              }
            ]
          }
        },
        "73f508a8548242a283d38a8408b87614": {
          "model_module": "@jupyter-widgets/controls",
          "model_name": "LabelModel",
          "model_module_version": "1.5.0",
          "state": {
            "_dom_classes": [],
            "_model_module": "@jupyter-widgets/controls",
            "_model_module_version": "1.5.0",
            "_model_name": "LabelModel",
            "_view_count": null,
            "_view_module": "@jupyter-widgets/controls",
            "_view_module_version": "1.5.0",
            "_view_name": "LabelView",
            "description": "",
            "description_tooltip": null,
            "layout": "IPY_MODEL_3ee7975b56104901ad9d2893a8ef1d90",
            "placeholder": "​",
            "style": "IPY_MODEL_d96c8cceba5c4f54bc5d3d1a8b01a6de",
            "value": "Prediccion: Dalí Paintings; Probabilidad: 0.9884"
          }
        },
        "d54670b8c4de4200b5e10d449726a1a2": {
          "model_module": "@jupyter-widgets/base",
          "model_name": "LayoutModel",
          "model_module_version": "1.2.0",
          "state": {
            "_model_module": "@jupyter-widgets/base",
            "_model_module_version": "1.2.0",
            "_model_name": "LayoutModel",
            "_view_count": null,
            "_view_module": "@jupyter-widgets/base",
            "_view_module_version": "1.2.0",
            "_view_name": "LayoutView",
            "align_content": null,
            "align_items": null,
            "align_self": null,
            "border": null,
            "bottom": null,
            "display": null,
            "flex": null,
            "flex_flow": null,
            "grid_area": null,
            "grid_auto_columns": null,
            "grid_auto_flow": null,
            "grid_auto_rows": null,
            "grid_column": null,
            "grid_gap": null,
            "grid_row": null,
            "grid_template_areas": null,
            "grid_template_columns": null,
            "grid_template_rows": null,
            "height": null,
            "justify_content": null,
            "justify_items": null,
            "left": null,
            "margin": null,
            "max_height": null,
            "max_width": null,
            "min_height": null,
            "min_width": null,
            "object_fit": null,
            "object_position": null,
            "order": null,
            "overflow": null,
            "overflow_x": null,
            "overflow_y": null,
            "padding": null,
            "right": null,
            "top": null,
            "visibility": null,
            "width": null
          }
        },
        "7f1d16a9b86c450b9e21d4a745f23467": {
          "model_module": "@jupyter-widgets/base",
          "model_name": "LayoutModel",
          "model_module_version": "1.2.0",
          "state": {
            "_model_module": "@jupyter-widgets/base",
            "_model_module_version": "1.2.0",
            "_model_name": "LayoutModel",
            "_view_count": null,
            "_view_module": "@jupyter-widgets/base",
            "_view_module_version": "1.2.0",
            "_view_name": "LayoutView",
            "align_content": null,
            "align_items": null,
            "align_self": null,
            "border": null,
            "bottom": null,
            "display": null,
            "flex": null,
            "flex_flow": null,
            "grid_area": null,
            "grid_auto_columns": null,
            "grid_auto_flow": null,
            "grid_auto_rows": null,
            "grid_column": null,
            "grid_gap": null,
            "grid_row": null,
            "grid_template_areas": null,
            "grid_template_columns": null,
            "grid_template_rows": null,
            "height": null,
            "justify_content": null,
            "justify_items": null,
            "left": null,
            "margin": null,
            "max_height": null,
            "max_width": null,
            "min_height": null,
            "min_width": null,
            "object_fit": null,
            "object_position": null,
            "order": null,
            "overflow": null,
            "overflow_x": null,
            "overflow_y": null,
            "padding": null,
            "right": null,
            "top": null,
            "visibility": null,
            "width": null
          }
        },
        "cfc908d256894d78be8c7b34d76ebbb7": {
          "model_module": "@jupyter-widgets/controls",
          "model_name": "DescriptionStyleModel",
          "model_module_version": "1.5.0",
          "state": {
            "_model_module": "@jupyter-widgets/controls",
            "_model_module_version": "1.5.0",
            "_model_name": "DescriptionStyleModel",
            "_view_count": null,
            "_view_module": "@jupyter-widgets/base",
            "_view_module_version": "1.2.0",
            "_view_name": "StyleView",
            "description_width": ""
          }
        },
        "ce83e2c82a1248ea8e860e7e863fc077": {
          "model_module": "@jupyter-widgets/base",
          "model_name": "LayoutModel",
          "model_module_version": "1.2.0",
          "state": {
            "_model_module": "@jupyter-widgets/base",
            "_model_module_version": "1.2.0",
            "_model_name": "LayoutModel",
            "_view_count": null,
            "_view_module": "@jupyter-widgets/base",
            "_view_module_version": "1.2.0",
            "_view_name": "LayoutView",
            "align_content": null,
            "align_items": null,
            "align_self": null,
            "border": null,
            "bottom": null,
            "display": null,
            "flex": null,
            "flex_flow": null,
            "grid_area": null,
            "grid_auto_columns": null,
            "grid_auto_flow": null,
            "grid_auto_rows": null,
            "grid_column": null,
            "grid_gap": null,
            "grid_row": null,
            "grid_template_areas": null,
            "grid_template_columns": null,
            "grid_template_rows": null,
            "height": null,
            "justify_content": null,
            "justify_items": null,
            "left": null,
            "margin": null,
            "max_height": null,
            "max_width": null,
            "min_height": null,
            "min_width": null,
            "object_fit": null,
            "object_position": null,
            "order": null,
            "overflow": null,
            "overflow_x": null,
            "overflow_y": null,
            "padding": null,
            "right": null,
            "top": null,
            "visibility": null,
            "width": null
          }
        },
        "54544dc8204a4d708c39df65c5327ccf": {
          "model_module": "@jupyter-widgets/controls",
          "model_name": "ButtonStyleModel",
          "model_module_version": "1.5.0",
          "state": {
            "_model_module": "@jupyter-widgets/controls",
            "_model_module_version": "1.5.0",
            "_model_name": "ButtonStyleModel",
            "_view_count": null,
            "_view_module": "@jupyter-widgets/base",
            "_view_module_version": "1.2.0",
            "_view_name": "StyleView",
            "button_color": null,
            "font_weight": ""
          }
        },
        "3ee7975b56104901ad9d2893a8ef1d90": {
          "model_module": "@jupyter-widgets/base",
          "model_name": "LayoutModel",
          "model_module_version": "1.2.0",
          "state": {
            "_model_module": "@jupyter-widgets/base",
            "_model_module_version": "1.2.0",
            "_model_name": "LayoutModel",
            "_view_count": null,
            "_view_module": "@jupyter-widgets/base",
            "_view_module_version": "1.2.0",
            "_view_name": "LayoutView",
            "align_content": null,
            "align_items": null,
            "align_self": null,
            "border": null,
            "bottom": null,
            "display": null,
            "flex": null,
            "flex_flow": null,
            "grid_area": null,
            "grid_auto_columns": null,
            "grid_auto_flow": null,
            "grid_auto_rows": null,
            "grid_column": null,
            "grid_gap": null,
            "grid_row": null,
            "grid_template_areas": null,
            "grid_template_columns": null,
            "grid_template_rows": null,
            "height": null,
            "justify_content": null,
            "justify_items": null,
            "left": null,
            "margin": null,
            "max_height": null,
            "max_width": null,
            "min_height": null,
            "min_width": null,
            "object_fit": null,
            "object_position": null,
            "order": null,
            "overflow": null,
            "overflow_x": null,
            "overflow_y": null,
            "padding": null,
            "right": null,
            "top": null,
            "visibility": null,
            "width": null
          }
        },
        "d96c8cceba5c4f54bc5d3d1a8b01a6de": {
          "model_module": "@jupyter-widgets/controls",
          "model_name": "DescriptionStyleModel",
          "model_module_version": "1.5.0",
          "state": {
            "_model_module": "@jupyter-widgets/controls",
            "_model_module_version": "1.5.0",
            "_model_name": "DescriptionStyleModel",
            "_view_count": null,
            "_view_module": "@jupyter-widgets/base",
            "_view_module_version": "1.2.0",
            "_view_name": "StyleView",
            "description_width": ""
          }
        },
        "b5618cd5c9d740489c43bc08dfca90b6": {
          "model_module": "@jupyter-widgets/base",
          "model_name": "LayoutModel",
          "model_module_version": "1.2.0",
          "state": {
            "_model_module": "@jupyter-widgets/base",
            "_model_module_version": "1.2.0",
            "_model_name": "LayoutModel",
            "_view_count": null,
            "_view_module": "@jupyter-widgets/base",
            "_view_module_version": "1.2.0",
            "_view_name": "LayoutView",
            "align_content": null,
            "align_items": null,
            "align_self": null,
            "border": null,
            "bottom": null,
            "display": null,
            "flex": null,
            "flex_flow": null,
            "grid_area": null,
            "grid_auto_columns": null,
            "grid_auto_flow": null,
            "grid_auto_rows": null,
            "grid_column": null,
            "grid_gap": null,
            "grid_row": null,
            "grid_template_areas": null,
            "grid_template_columns": null,
            "grid_template_rows": null,
            "height": null,
            "justify_content": null,
            "justify_items": null,
            "left": null,
            "margin": null,
            "max_height": null,
            "max_width": null,
            "min_height": null,
            "min_width": null,
            "object_fit": null,
            "object_position": null,
            "order": null,
            "overflow": null,
            "overflow_x": null,
            "overflow_y": null,
            "padding": null,
            "right": null,
            "top": null,
            "visibility": null,
            "width": null
          }
        }
      }
    }
  },
  "cells": [
    {
      "cell_type": "code",
      "source": [
        "#hide\n",
        "#!pip install voila\n",
        "#!jupyter serverextension enable --sys-prefix voila "
      ],
      "metadata": {
        "id": "VNo5Zeo_Xqmu"
      },
      "execution_count": 6,
      "outputs": []
    },
    {
      "cell_type": "code",
      "source": [
        "#Importamos las librerías necesarias\n",
        "from fastai import * \n",
        "from fastbook import *\n",
        "from fastai.vision.widgets import *"
      ],
      "metadata": {
        "id": "mQrDRFoKBvHo"
      },
      "execution_count": 10,
      "outputs": []
    },
    {
      "cell_type": "markdown",
      "source": [
        "# Prueba de clasificación de pinturas del surrealismo\n",
        "##### Prueba de Redes neuronales preentrenadas para la clasificación de las obras de artístas como Remedios Varo, Francisco de Goya, Salvador Dalí y Claude Monet."
      ],
      "metadata": {
        "id": "aqw_SaBMD_WJ"
      }
    },
    {
      "cell_type": "code",
      "source": [
        "# Cargamos el modelo previamente exportado y creamos los widgets\n",
        "\n",
        "ruta = Path()\n",
        "inferencia = load_learner(ruta/\"export.pkl\", cpu = True)\n",
        "btn_subida = widgets.FileUpload()\n",
        "salida = widgets.Output()\n",
        "mostrar_pred = widgets.Label()"
      ],
      "metadata": {
        "id": "FGorJn8RBvKO"
      },
      "execution_count": 12,
      "outputs": []
    },
    {
      "cell_type": "code",
      "source": [
        "# Función que llamará el botón encontrado más abajo\n",
        "\n",
        "def al_hacer_click(x):\n",
        "  img = PILImage.create(btn_subida.data[-1])\n",
        "  salida.clear_output()\n",
        "  with salida: display(img.to_thumb(128,128))\n",
        "  pred,pred_idx,probs = inferencia.predict(img)\n",
        "  mostrar_pred.value = f'Prediccion: {pred}; Probabilidad: {probs[pred_idx]:.04f}'\n",
        "\n"
      ],
      "metadata": {
        "id": "lOLO6Ae9E_Ia"
      },
      "execution_count": 13,
      "outputs": []
    },
    {
      "cell_type": "code",
      "source": [
        "btn_subida.observe(al_hacer_click, names = [\"data\"])"
      ],
      "metadata": {
        "id": "8E3unPM_BvM3"
      },
      "execution_count": 14,
      "outputs": []
    },
    {
      "cell_type": "code",
      "source": [
        "#Mostarmos el conjunto de botones\n",
        "\n",
        "display(VBox([widgets.Label(\"Selecciona una pintura!\"), btn_subida, salida, mostrar_pred]))"
      ],
      "metadata": {
        "colab": {
          "base_uri": "https://localhost:8080/",
          "height": 241,
          "referenced_widgets": [
            "7732847eaa1b4331b546948d1e4bb8a1",
            "d59bc98ed75a4835ae4dee1c87ffb305",
            "3c136de717264c2e9ed54c1ee9405edd",
            "2e3e4e758a4b486196dd8cb008239a95",
            "73f508a8548242a283d38a8408b87614",
            "d54670b8c4de4200b5e10d449726a1a2",
            "7f1d16a9b86c450b9e21d4a745f23467",
            "cfc908d256894d78be8c7b34d76ebbb7",
            "ce83e2c82a1248ea8e860e7e863fc077",
            "54544dc8204a4d708c39df65c5327ccf",
            "3ee7975b56104901ad9d2893a8ef1d90",
            "d96c8cceba5c4f54bc5d3d1a8b01a6de",
            "b5618cd5c9d740489c43bc08dfca90b6"
          ]
        },
        "id": "ZFIRorUaBvR5",
        "outputId": "d7df7e20-8bf5-4d1e-e0ca-a308875a139c"
      },
      "execution_count": 15,
      "outputs": [
        {
          "output_type": "display_data",
          "data": {
            "text/plain": [
              "VBox(children=(Label(value='Selecciona una pintura!'), FileUpload(value={}, description='Upload'), Output(), L…"
            ],
            "application/vnd.jupyter.widget-view+json": {
              "version_major": 2,
              "version_minor": 0,
              "model_id": "7732847eaa1b4331b546948d1e4bb8a1"
            }
          },
          "metadata": {}
        },
        {
          "output_type": "display_data",
          "data": {
            "text/plain": [
              "<IPython.core.display.HTML object>"
            ],
            "text/html": [
              "\n",
              "<style>\n",
              "    /* Turns off some styling */\n",
              "    progress {\n",
              "        /* gets rid of default border in Firefox and Opera. */\n",
              "        border: none;\n",
              "        /* Needs to be in here for Safari polyfill so background images work as expected. */\n",
              "        background-size: auto;\n",
              "    }\n",
              "    progress:not([value]), progress:not([value])::-webkit-progress-bar {\n",
              "        background: repeating-linear-gradient(45deg, #7e7e7e, #7e7e7e 10px, #5c5c5c 10px, #5c5c5c 20px);\n",
              "    }\n",
              "    .progress-bar-interrupted, .progress-bar-interrupted::-webkit-progress-bar {\n",
              "        background: #F44336;\n",
              "    }\n",
              "</style>\n"
            ]
          },
          "metadata": {}
        },
        {
          "output_type": "display_data",
          "data": {
            "text/plain": [
              "<IPython.core.display.HTML object>"
            ],
            "text/html": []
          },
          "metadata": {}
        }
      ]
    },
    {
      "cell_type": "code",
      "source": [],
      "metadata": {
        "id": "S_PQ6hufXrdy"
      },
      "execution_count": null,
      "outputs": []
    }
  ]
}